{
 "cells": [
  {
   "cell_type": "code",
   "execution_count": 1,
   "metadata": {},
   "outputs": [],
   "source": [
    "%load_ext autoreload\n",
    "%autoreload 2\n",
    "\n",
    "from Dataset import *\n",
    "import glob \n",
    "import os \n",
    "import plotly.express as px\n",
    "\n",
    "list_of_files = glob.glob('../DATA/*') # * means all if need specific format then *.csv \n",
    "latest_file = max(list_of_files, key=os.path.getctime)\n",
    "latest_smell = max(glob.glob(latest_file+'/*'),key=os.path.getctime)\n",
    "#latest_smell = '../DATA/subject_0/3.csv'"
   ]
  },
  {
   "cell_type": "code",
   "execution_count": 11,
   "metadata": {},
   "outputs": [],
   "source": [
    "nb_samples = 100\n",
    "X,y = create_img_dataset('../DATA',nb_samples)\n",
    "n = len(X)"
   ]
  },
  {
   "cell_type": "code",
   "execution_count": 3,
   "metadata": {},
   "outputs": [
    {
     "name": "stdout",
     "output_type": "stream",
     "text": [
      "[0 0 0 0 0 0 0 0 0 0 1 1 1 1 1 1 1 1 1 1 2 2 2 2 2 2 2 2 2 2 3 3 3 3 3 3 3\n",
      " 3 3 3 4 4 4 4 4 4 4 4 4 4]\n",
      "50\n",
      "80\n"
     ]
    }
   ],
   "source": [
    "exp_day = (np.tile(range(5),(10,1)).T).reshape(-1)\n",
    "print(exp_day)\n",
    "print(len(exp_day))\n",
    "print(n)"
   ]
  },
  {
   "cell_type": "code",
   "execution_count": 4,
   "metadata": {},
   "outputs": [
    {
     "data": {
      "image/png": "[encoded data removed]",
      "text/plain": [
       "<Figure size 432x288 with 1 Axes>"
      ]
     },
     "metadata": {
      "needs_background": "light"
     },
     "output_type": "display_data"
    }
   ],
   "source": [
    "from sklearn.decomposition import PCA\n",
    "\n",
    "\n",
    "moy = X.mean(axis=0)\n",
    "\n",
    "X_centre = X - np.tile(moy,(len(X),1))\n",
    "\n",
    "\n",
    "plt.imshow(moy.reshape(40,nb_samples))\n",
    "plt.title('Image moyenne')\n",
    "plt.show()"
   ]
  },
  {
   "cell_type": "code",
   "execution_count": 6,
   "metadata": {},
   "outputs": [],
   "source": [
    "pca = PCA()\n",
    "pca.fit(X_centre)  # you may forget centering that is done by sklearn PCA\n",
    "\n",
    "singval = pca.singular_values_   # eigenvalues\n",
    "comp = pca.components_           # principal components\n",
    "proj = pca.transform(X_centre)  # computes the projection coefficients"
   ]
  },
  {
   "cell_type": "code",
   "execution_count": null,
   "metadata": {},
   "outputs": [],
   "source": []
  },
  {
   "cell_type": "code",
   "execution_count": 7,
   "metadata": {},
   "outputs": [
    {
     "data": {
      "application/vnd.plotly.v1+json": {
       "config": {
        "plotlyServerURL": "https://plot.ly"
       },
       "data": [
        {
         "hovertemplate": "class=0<br>first_compo=%{x}<br>second_compo=%{y}<extra></extra>",
         "legendgroup": "0",
         "marker": {
          "color": "#636efa",
          "symbol": "circle"
         },
         "mode": "markers",
         "name": "0",
         "orientation": "v",
         "showlegend": true,
         "type": "scatter",
         "x": [
          0.6877742377165382,
          -171.59297825459043,
          -165.86207869276717,
          -172.74312526433434,
          8687.468339688894,
          -93.193359718498,
          -157.91433336280573,
          -178.74858404627633
         ],
         "xaxis": "x",
         "y": [
          133.8414823396356,
          -188.64280457264377,
          -185.7911436654498,
          -61.802814488902364,
          -298.73242125686085,
          -187.78527068794548,
          -158.1645854314578,
          -166.37995070081078
         ],
         "yaxis": "y"
        },
        {
         "alignmentgroup": "True",
         "hovertemplate": "class=0<br>first_compo=%{x}<extra></extra>",
         "legendgroup": "0",
         "marker": {
          "color": "#636efa",
          "symbol": "circle"
         },
         "name": "0",
         "notched": true,
         "offsetgroup": "0",
         "showlegend": false,
         "type": "box",
         "x": [
          0.6877742377165382,
          -171.59297825459043,
          -165.86207869276717,
          -172.74312526433434,
          8687.468339688894,
          -93.193359718498,
          -157.91433336280573,
          -178.74858404627633
         ],
         "xaxis": "x3",
         "yaxis": "y3"
        },
        {
         "alignmentgroup": "True",
         "hovertemplate": "class=0<br>second_compo=%{y}<extra></extra>",
         "legendgroup": "0",
         "marker": {
          "color": "#636efa",
          "symbol": "circle"
         },
         "name": "0",
         "notched": true,
         "offsetgroup": "0",
         "showlegend": false,
         "type": "box",
         "xaxis": "x2",
         "y": [
          133.8414823396356,
          -188.64280457264377,
          -185.7911436654498,
          -61.802814488902364,
          -298.73242125686085,
          -187.78527068794548,
          -158.1645854314578,
          -166.37995070081078
         ],
         "yaxis": "y2"
        },
        {
         "hovertemplate": "class=1<br>first_compo=%{x}<br>second_compo=%{y}<extra></extra>",
         "legendgroup": "1",
         "marker": {
          "color": "#EF553B",
          "symbol": "diamond"
         },
         "mode": "markers",
         "name": "1",
         "orientation": "v",
         "showlegend": true,
         "type": "scatter",
         "x": [
          -82.86779368410427,
          32.58861804076429,
          100.88518010192264,
          -86.04701853400093,
          -154.2916881051552,
          -183.46298988167743,
          -134.26905061216488,
          461.28271938702096
         ],
         "xaxis": "x",
         "y": [
          176.73082922618755,
          62.71100881393294,
          776.4829711385634,
          -58.60802448131648,
          -213.01644137350826,
          -227.6230302171381,
          -82.51638433161403,
          2762.698283069084
         ],
         "yaxis": "y"
        },
        {
         "alignmentgroup": "True",
         "hovertemplate": "class=1<br>first_compo=%{x}<extra></extra>",
         "legendgroup": "1",
         "marker": {
          "color": "#EF553B",
          "symbol": "diamond"
         },
         "name": "1",
         "notched": true,
         "offsetgroup": "1",
         "showlegend": false,
         "type": "box",
         "x": [
          -82.86779368410427,
          32.58861804076429,
          100.88518010192264,
          -86.04701853400093,
          -154.2916881051552,
          -183.46298988167743,
          -134.26905061216488,
          461.28271938702096
         ],
         "xaxis": "x3",
         "yaxis": "y3"
        },
        {
         "alignmentgroup": "True",
         "hovertemplate": "class=1<br>second_compo=%{y}<extra></extra>",
         "legendgroup": "1",
         "marker": {
          "color": "#EF553B",
          "symbol": "diamond"
         },
         "name": "1",
         "notched": true,
         "offsetgroup": "1",
         "showlegend": false,
         "type": "box",
         "xaxis": "x2",
         "y": [
          176.73082922618755,
          62.71100881393294,
          776.4829711385634,
          -58.60802448131648,
          -213.01644137350826,
          -227.6230302171381,
          -82.51638433161403,
          2762.698283069084
         ],
         "yaxis": "y2"
        },
        {
         "hovertemplate": "class=2<br>first_compo=%{x}<br>second_compo=%{y}<extra></extra>",
         "legendgroup": "2",
         "marker": {
          "color": "#00cc96",
          "symbol": "square"
         },
         "mode": "markers",
         "name": "2",
         "orientation": "v",
         "showlegend": true,
         "type": "scatter",
         "x": [
          -134.01564802683643,
          -48.30858540835613,
          -181.8371814437231,
          143.80989953268707,
          -166.0915237556375,
          -135.7644820978713,
          -92.37483153259844,
          -144.02062682462918
         ],
         "xaxis": "x",
         "y": [
          -179.94951041430554,
          168.9587090980858,
          -167.0719528450936,
          1149.5041991279431,
          -127.04788548227717,
          -212.96460136032215,
          -2.2958059867557425,
          -55.441577044371094
         ],
         "yaxis": "y"
        },
        {
         "alignmentgroup": "True",
         "hovertemplate": "class=2<br>first_compo=%{x}<extra></extra>",
         "legendgroup": "2",
         "marker": {
          "color": "#00cc96",
          "symbol": "square"
         },
         "name": "2",
         "notched": true,
         "offsetgroup": "2",
         "showlegend": false,
         "type": "box",
         "x": [
          -134.01564802683643,
          -48.30858540835613,
          -181.8371814437231,
          143.80989953268707,
          -166.0915237556375,
          -135.7644820978713,
          -92.37483153259844,
          -144.02062682462918
         ],
         "xaxis": "x3",
         "yaxis": "y3"
        },
        {
         "alignmentgroup": "True",
         "hovertemplate": "class=2<br>second_compo=%{y}<extra></extra>",
         "legendgroup": "2",
         "marker": {
          "color": "#00cc96",
          "symbol": "square"
         },
         "name": "2",
         "notched": true,
         "offsetgroup": "2",
         "showlegend": false,
         "type": "box",
         "xaxis": "x2",
         "y": [
          -179.94951041430554,
          168.9587090980858,
          -167.0719528450936,
          1149.5041991279431,
          -127.04788548227717,
          -212.96460136032215,
          -2.2958059867557425,
          -55.441577044371094
         ],
         "yaxis": "y2"
        },
        {
         "hovertemplate": "class=3<br>first_compo=%{x}<br>second_compo=%{y}<extra></extra>",
         "legendgroup": "3",
         "marker": {
          "color": "#ab63fa",
          "symbol": "x"
         },
         "mode": "markers",
         "name": "3",
         "orientation": "v",
         "showlegend": true,
         "type": "scatter",
         "x": [
          -76.93259075840176,
          -12.417982183147263,
          -179.44520717980643,
          -161.4444598103719,
          -176.95966917831709,
          -160.1933130465808,
          -112.39445590376674,
          -23.3384856507733
         ],
         "xaxis": "x",
         "y": [
          -15.478908835525463,
          7.475834128002642,
          -100.05744059637792,
          -143.9339340663296,
          -88.09671481609472,
          32.48157163311292,
          -56.36117425561861,
          143.66857394227426
         ],
         "yaxis": "y"
        },
        {
         "alignmentgroup": "True",
         "hovertemplate": "class=3<br>first_compo=%{x}<extra></extra>",
         "legendgroup": "3",
         "marker": {
          "color": "#ab63fa",
          "symbol": "x"
         },
         "name": "3",
         "notched": true,
         "offsetgroup": "3",
         "showlegend": false,
         "type": "box",
         "x": [
          -76.93259075840176,
          -12.417982183147263,
          -179.44520717980643,
          -161.4444598103719,
          -176.95966917831709,
          -160.1933130465808,
          -112.39445590376674,
          -23.3384856507733
         ],
         "xaxis": "x3",
         "yaxis": "y3"
        },
        {
         "alignmentgroup": "True",
         "hovertemplate": "class=3<br>second_compo=%{y}<extra></extra>",
         "legendgroup": "3",
         "marker": {
          "color": "#ab63fa",
          "symbol": "x"
         },
         "name": "3",
         "notched": true,
         "offsetgroup": "3",
         "showlegend": false,
         "type": "box",
         "xaxis": "x2",
         "y": [
          -15.478908835525463,
          7.475834128002642,
          -100.05744059637792,
          -143.9339340663296,
          -88.09671481609472,
          32.48157163311292,
          -56.36117425561861,
          143.66857394227426
         ],
         "yaxis": "y2"
        },
        {
         "hovertemplate": "class=4<br>first_compo=%{x}<br>second_compo=%{y}<extra></extra>",
         "legendgroup": "4",
         "marker": {
          "color": "#FFA15A",
          "symbol": "cross"
         },
         "mode": "markers",
         "name": "4",
         "orientation": "v",
         "showlegend": true,
         "type": "scatter",
         "x": [
          -139.40887232347887,
          -159.9303721497919,
          -182.53407658008453,
          -178.145550720532,
          -147.81701243378384,
          -149.09407166548846,
          -118.846336651892,
          -179.23742874678706
         ],
         "xaxis": "x",
         "y": [
          -117.33895451077622,
          -116.21886749598904,
          -211.74551394413197,
          -181.37001445163378,
          -186.47641154540355,
          -46.35621134392884,
          -151.39485222327536,
          -111.85880002000688
         ],
         "yaxis": "y"
        },
        {
         "alignmentgroup": "True",
         "hovertemplate": "class=4<br>first_compo=%{x}<extra></extra>",
         "legendgroup": "4",
         "marker": {
          "color": "#FFA15A",
          "symbol": "cross"
         },
         "name": "4",
         "notched": true,
         "offsetgroup": "4",
         "showlegend": false,
         "type": "box",
         "x": [
          -139.40887232347887,
          -159.9303721497919,
          -182.53407658008453,
          -178.145550720532,
          -147.81701243378384,
          -149.09407166548846,
          -118.846336651892,
          -179.23742874678706
         ],
         "xaxis": "x3",
         "yaxis": "y3"
        },
        {
         "alignmentgroup": "True",
         "hovertemplate": "class=4<br>second_compo=%{y}<extra></extra>",
         "legendgroup": "4",
         "marker": {
          "color": "#FFA15A",
          "symbol": "cross"
         },
         "name": "4",
         "notched": true,
         "offsetgroup": "4",
         "showlegend": false,
         "type": "box",
         "xaxis": "x2",
         "y": [
          -117.33895451077622,
          -116.21886749598904,
          -211.74551394413197,
          -181.37001445163378,
          -186.47641154540355,
          -46.35621134392884,
          -151.39485222327536,
          -111.85880002000688
         ],
         "yaxis": "y2"
        },
        {
         "hovertemplate": "class=5<br>first_compo=%{x}<br>second_compo=%{y}<extra></extra>",
         "legendgroup": "5",
         "marker": {
          "color": "#19d3f3",
          "symbol": "circle"
         },
         "mode": "markers",
         "name": "5",
         "orientation": "v",
         "showlegend": true,
         "type": "scatter",
         "x": [
          -140.2439882751865,
          -175.8056339163388,
          -78.54314312848234,
          -25.269015506199192,
          -112.16269456754392,
          -165.26041261728022,
          -182.69071120263996,
          -172.85891614835828
         ],
         "xaxis": "x",
         "y": [
          -157.25263998103048,
          -177.61853572374352,
          36.037172487762,
          462.5895975438504,
          -158.13573818489874,
          11.87541439579282,
          -200.49774428026697,
          111.94376759134575
         ],
         "yaxis": "y"
        },
        {
         "alignmentgroup": "True",
         "hovertemplate": "class=5<br>first_compo=%{x}<extra></extra>",
         "legendgroup": "5",
         "marker": {
          "color": "#19d3f3",
          "symbol": "circle"
         },
         "name": "5",
         "notched": true,
         "offsetgroup": "5",
         "showlegend": false,
         "type": "box",
         "x": [
          -140.2439882751865,
          -175.8056339163388,
          -78.54314312848234,
          -25.269015506199192,
          -112.16269456754392,
          -165.26041261728022,
          -182.69071120263996,
          -172.85891614835828
         ],
         "xaxis": "x3",
         "yaxis": "y3"
        },
        {
         "alignmentgroup": "True",
         "hovertemplate": "class=5<br>second_compo=%{y}<extra></extra>",
         "legendgroup": "5",
         "marker": {
          "color": "#19d3f3",
          "symbol": "circle"
         },
         "name": "5",
         "notched": true,
         "offsetgroup": "5",
         "showlegend": false,
         "type": "box",
         "xaxis": "x2",
         "y": [
          -157.25263998103048,
          -177.61853572374352,
          36.037172487762,
          462.5895975438504,
          -158.13573818489874,
          11.87541439579282,
          -200.49774428026697,
          111.94376759134575
         ],
         "yaxis": "y2"
        },
        {
         "hovertemplate": "class=6<br>first_compo=%{x}<br>second_compo=%{y}<extra></extra>",
         "legendgroup": "6",
         "marker": {
          "color": "#FF6692",
          "symbol": "diamond"
         },
         "mode": "markers",
         "name": "6",
         "orientation": "v",
         "showlegend": true,
         "type": "scatter",
         "x": [
          -178.33747133057935,
          -182.86325983787566,
          -157.3842611735475,
          -166.3640595076951,
          -144.57938178844083,
          -33.67241709363953,
          -112.08002006599345,
          -178.41529126273795
         ],
         "xaxis": "x",
         "y": [
          -173.46078510398561,
          -204.29181477220436,
          -97.3109630326904,
          -71.3593546153989,
          -135.02478994830463,
          300.0308116818759,
          -25.67439234505691,
          -15.728993679979347
         ],
         "yaxis": "y"
        },
        {
         "alignmentgroup": "True",
         "hovertemplate": "class=6<br>first_compo=%{x}<extra></extra>",
         "legendgroup": "6",
         "marker": {
          "color": "#FF6692",
          "symbol": "diamond"
         },
         "name": "6",
         "notched": true,
         "offsetgroup": "6",
         "showlegend": false,
         "type": "box",
         "x": [
          -178.33747133057935,
          -182.86325983787566,
          -157.3842611735475,
          -166.3640595076951,
          -144.57938178844083,
          -33.67241709363953,
          -112.08002006599345,
          -178.41529126273795
         ],
         "xaxis": "x3",
         "yaxis": "y3"
        },
        {
         "alignmentgroup": "True",
         "hovertemplate": "class=6<br>second_compo=%{y}<extra></extra>",
         "legendgroup": "6",
         "marker": {
          "color": "#FF6692",
          "symbol": "diamond"
         },
         "name": "6",
         "notched": true,
         "offsetgroup": "6",
         "showlegend": false,
         "type": "box",
         "xaxis": "x2",
         "y": [
          -173.46078510398561,
          -204.29181477220436,
          -97.3109630326904,
          -71.3593546153989,
          -135.02478994830463,
          300.0308116818759,
          -25.67439234505691,
          -15.728993679979347
         ],
         "yaxis": "y2"
        },
        {
         "hovertemplate": "class=7<br>first_compo=%{x}<br>second_compo=%{y}<extra></extra>",
         "legendgroup": "7",
         "marker": {
          "color": "#B6E880",
          "symbol": "square"
         },
         "mode": "markers",
         "name": "7",
         "orientation": "v",
         "showlegend": true,
         "type": "scatter",
         "x": [
          -112.33471695061009,
          -161.22939211194787,
          61.8669294002372,
          -180.15701523109792,
          -12.320064584655155,
          -170.04417448965685,
          -102.98941798266758,
          -130.2365708266986
         ],
         "xaxis": "x",
         "y": [
          -94.09260121619432,
          -31.872748104331585,
          372.46395188346446,
          -140.66181479959306,
          -9.84975499807761,
          -191.4441729961528,
          338.4116734971419,
          -4.7461575069328115
         ],
         "yaxis": "y"
        },
        {
         "alignmentgroup": "True",
         "hovertemplate": "class=7<br>first_compo=%{x}<extra></extra>",
         "legendgroup": "7",
         "marker": {
          "color": "#B6E880",
          "symbol": "square"
         },
         "name": "7",
         "notched": true,
         "offsetgroup": "7",
         "showlegend": false,
         "type": "box",
         "x": [
          -112.33471695061009,
          -161.22939211194787,
          61.8669294002372,
          -180.15701523109792,
          -12.320064584655155,
          -170.04417448965685,
          -102.98941798266758,
          -130.2365708266986
         ],
         "xaxis": "x3",
         "yaxis": "y3"
        },
        {
         "alignmentgroup": "True",
         "hovertemplate": "class=7<br>second_compo=%{y}<extra></extra>",
         "legendgroup": "7",
         "marker": {
          "color": "#B6E880",
          "symbol": "square"
         },
         "name": "7",
         "notched": true,
         "offsetgroup": "7",
         "showlegend": false,
         "type": "box",
         "xaxis": "x2",
         "y": [
          -94.09260121619432,
          -31.872748104331585,
          372.46395188346446,
          -140.66181479959306,
          -9.84975499807761,
          -191.4441729961528,
          338.4116734971419,
          -4.7461575069328115
         ],
         "yaxis": "y2"
        },
        {
         "hovertemplate": "class=8<br>first_compo=%{x}<br>second_compo=%{y}<extra></extra>",
         "legendgroup": "8",
         "marker": {
          "color": "#FF97FF",
          "symbol": "x"
         },
         "mode": "markers",
         "name": "8",
         "orientation": "v",
         "showlegend": true,
         "type": "scatter",
         "x": [
          -178.74290349834948,
          -145.98032795246746,
          -174.01939166554007,
          -180.5412339630262,
          -35.55002551132104,
          -116.05734879797524,
          139.69827756626256,
          -98.94094866338853
         ],
         "xaxis": "x",
         "y": [
          -47.13807592388876,
          -234.679887550579,
          -117.8766254675251,
          -108.87780098548662,
          -138.26029405400504,
          -127.34851953269686,
          236.70747686268805,
          226.8009518306942
         ],
         "yaxis": "y"
        },
        {
         "alignmentgroup": "True",
         "hovertemplate": "class=8<br>first_compo=%{x}<extra></extra>",
         "legendgroup": "8",
         "marker": {
          "color": "#FF97FF",
          "symbol": "x"
         },
         "name": "8",
         "notched": true,
         "offsetgroup": "8",
         "showlegend": false,
         "type": "box",
         "x": [
          -178.74290349834948,
          -145.98032795246746,
          -174.01939166554007,
          -180.5412339630262,
          -35.55002551132104,
          -116.05734879797524,
          139.69827756626256,
          -98.94094866338853
         ],
         "xaxis": "x3",
         "yaxis": "y3"
        },
        {
         "alignmentgroup": "True",
         "hovertemplate": "class=8<br>second_compo=%{y}<extra></extra>",
         "legendgroup": "8",
         "marker": {
          "color": "#FF97FF",
          "symbol": "x"
         },
         "name": "8",
         "notched": true,
         "offsetgroup": "8",
         "showlegend": false,
         "type": "box",
         "xaxis": "x2",
         "y": [
          -47.13807592388876,
          -234.679887550579,
          -117.8766254675251,
          -108.87780098548662,
          -138.26029405400504,
          -127.34851953269686,
          236.70747686268805,
          226.8009518306942
         ],
         "yaxis": "y2"
        },
        {
         "hovertemplate": "class=9<br>first_compo=%{x}<br>second_compo=%{y}<extra></extra>",
         "legendgroup": "9",
         "marker": {
          "color": "#FECB52",
          "symbol": "cross"
         },
         "mode": "markers",
         "name": "9",
         "orientation": "v",
         "showlegend": true,
         "type": "scatter",
         "x": [
          -182.59547340065586,
          60.76693209433015,
          -174.30832117282014,
          -177.9026108831019,
          -21.651284877138956,
          -127.13815029365037,
          -177.79667168958423,
          -180.442183851912
         ],
         "xaxis": "x",
         "y": [
          -136.6087373571763,
          187.39303015834906,
          -162.16923235672672,
          -129.75130034976334,
          -121.61776949531267,
          -62.20453372459047,
          -117.58515140739557,
          -205.14437850993318
         ],
         "yaxis": "y"
        },
        {
         "alignmentgroup": "True",
         "hovertemplate": "class=9<br>first_compo=%{x}<extra></extra>",
         "legendgroup": "9",
         "marker": {
          "color": "#FECB52",
          "symbol": "cross"
         },
         "name": "9",
         "notched": true,
         "offsetgroup": "9",
         "showlegend": false,
         "type": "box",
         "x": [
          -182.59547340065586,
          60.76693209433015,
          -174.30832117282014,
          -177.9026108831019,
          -21.651284877138956,
          -127.13815029365037,
          -177.79667168958423,
          -180.442183851912
         ],
         "xaxis": "x3",
         "yaxis": "y3"
        },
        {
         "alignmentgroup": "True",
         "hovertemplate": "class=9<br>second_compo=%{y}<extra></extra>",
         "legendgroup": "9",
         "marker": {
          "color": "#FECB52",
          "symbol": "cross"
         },
         "name": "9",
         "notched": true,
         "offsetgroup": "9",
         "showlegend": false,
         "type": "box",
         "xaxis": "x2",
         "y": [
          -136.6087373571763,
          187.39303015834906,
          -162.16923235672672,
          -129.75130034976334,
          -121.61776949531267,
          -62.20453372459047,
          -117.58515140739557,
          -205.14437850993318
         ],
         "yaxis": "y2"
        }
       ],
       "layout": {
        "legend": {
         "title": {
          "text": "class"
         },
         "tracegroupgap": 0
        },
        "template": {
         "data": {
          "bar": [
           {
            "error_x": {
             "color": "#2a3f5f"
            },
            "error_y": {
             "color": "#2a3f5f"
            },
            "marker": {
             "line": {
              "color": "#E5ECF6",
              "width": 0.5
             },
             "pattern": {
              "fillmode": "overlay",
              "size": 10,
              "solidity": 0.2
             }
            },
            "type": "bar"
           }
          ],
          "barpolar": [
           {
            "marker": {
             "line": {
              "color": "#E5ECF6",
              "width": 0.5
             },
             "pattern": {
              "fillmode": "overlay",
              "size": 10,
              "solidity": 0.2
             }
            },
            "type": "barpolar"
           }
          ],
          "carpet": [
           {
            "aaxis": {
             "endlinecolor": "#2a3f5f",
             "gridcolor": "white",
             "linecolor": "white",
             "minorgridcolor": "white",
             "startlinecolor": "#2a3f5f"
            },
            "baxis": {
             "endlinecolor": "#2a3f5f",
             "gridcolor": "white",
             "linecolor": "white",
             "minorgridcolor": "white",
             "startlinecolor": "#2a3f5f"
            },
            "type": "carpet"
           }
          ],
          "choropleth": [
           {
            "colorbar": {
             "outlinewidth": 0,
             "ticks": ""
            },
            "type": "choropleth"
           }
          ],
          "contour": [
           {
            "colorbar": {
             "outlinewidth": 0,
             "ticks": ""
            },
            "colorscale": [
             [
              0,
              "#0d0887"
             ],
             [
              0.1111111111111111,
              "#46039f"
             ],
             [
              0.2222222222222222,
              "#7201a8"
             ],
             [
              0.3333333333333333,
              "#9c179e"
             ],
             [
              0.4444444444444444,
              "#bd3786"
             ],
             [
              0.5555555555555556,
              "#d8576b"
             ],
             [
              0.6666666666666666,
              "#ed7953"
             ],
             [
              0.7777777777777778,
              "#fb9f3a"
             ],
             [
              0.8888888888888888,
              "#fdca26"
             ],
             [
              1,
              "#f0f921"
             ]
            ],
            "type": "contour"
           }
          ],
          "contourcarpet": [
           {
            "colorbar": {
             "outlinewidth": 0,
             "ticks": ""
            },
            "type": "contourcarpet"
           }
          ],
          "heatmap": [
           {
            "colorbar": {
             "outlinewidth": 0,
             "ticks": ""
            },
            "colorscale": [
             [
              0,
              "#0d0887"
             ],
             [
              0.1111111111111111,
              "#46039f"
             ],
             [
              0.2222222222222222,
              "#7201a8"
             ],
             [
              0.3333333333333333,
              "#9c179e"
             ],
             [
              0.4444444444444444,
              "#bd3786"
             ],
             [
              0.5555555555555556,
              "#d8576b"
             ],
             [
              0.6666666666666666,
              "#ed7953"
             ],
             [
              0.7777777777777778,
              "#fb9f3a"
             ],
             [
              0.8888888888888888,
              "#fdca26"
             ],
             [
              1,
              "#f0f921"
             ]
            ],
            "type": "heatmap"
           }
          ],
          "heatmapgl": [
           {
            "colorbar": {
             "outlinewidth": 0,
             "ticks": ""
            },
            "colorscale": [
             [
              0,
              "#0d0887"
             ],
             [
              0.1111111111111111,
              "#46039f"
             ],
             [
              0.2222222222222222,
              "#7201a8"
             ],
             [
              0.3333333333333333,
              "#9c179e"
             ],
             [
              0.4444444444444444,
              "#bd3786"
             ],
             [
              0.5555555555555556,
              "#d8576b"
             ],
             [
              0.6666666666666666,
              "#ed7953"
             ],
             [
              0.7777777777777778,
              "#fb9f3a"
             ],
             [
              0.8888888888888888,
              "#fdca26"
             ],
             [
              1,
              "#f0f921"
             ]
            ],
            "type": "heatmapgl"
           }
          ],
          "histogram": [
           {
            "marker": {
             "pattern": {
              "fillmode": "overlay",
              "size": 10,
              "solidity": 0.2
             }
            },
            "type": "histogram"
           }
          ],
          "histogram2d": [
           {
            "colorbar": {
             "outlinewidth": 0,
             "ticks": ""
            },
            "colorscale": [
             [
              0,
              "#0d0887"
             ],
             [
              0.1111111111111111,
              "#46039f"
             ],
             [
              0.2222222222222222,
              "#7201a8"
             ],
             [
              0.3333333333333333,
              "#9c179e"
             ],
             [
              0.4444444444444444,
              "#bd3786"
             ],
             [
              0.5555555555555556,
              "#d8576b"
             ],
             [
              0.6666666666666666,
              "#ed7953"
             ],
             [
              0.7777777777777778,
              "#fb9f3a"
             ],
             [
              0.8888888888888888,
              "#fdca26"
             ],
             [
              1,
              "#f0f921"
             ]
            ],
            "type": "histogram2d"
           }
          ],
          "histogram2dcontour": [
           {
            "colorbar": {
             "outlinewidth": 0,
             "ticks": ""
            },
            "colorscale": [
             [
              0,
              "#0d0887"
             ],
             [
              0.1111111111111111,
              "#46039f"
             ],
             [
              0.2222222222222222,
              "#7201a8"
             ],
             [
              0.3333333333333333,
              "#9c179e"
             ],
             [
              0.4444444444444444,
              "#bd3786"
             ],
             [
              0.5555555555555556,
              "#d8576b"
             ],
             [
              0.6666666666666666,
              "#ed7953"
             ],
             [
              0.7777777777777778,
              "#fb9f3a"
             ],
             [
              0.8888888888888888,
              "#fdca26"
             ],
             [
              1,
              "#f0f921"
             ]
            ],
            "type": "histogram2dcontour"
           }
          ],
          "mesh3d": [
           {
            "colorbar": {
             "outlinewidth": 0,
             "ticks": ""
            },
            "type": "mesh3d"
           }
          ],
          "parcoords": [
           {
            "line": {
             "colorbar": {
              "outlinewidth": 0,
              "ticks": ""
             }
            },
            "type": "parcoords"
           }
          ],
          "pie": [
           {
            "automargin": true,
            "type": "pie"
           }
          ],
          "scatter": [
           {
            "marker": {
             "colorbar": {
              "outlinewidth": 0,
              "ticks": ""
             }
            },
            "type": "scatter"
           }
          ],
          "scatter3d": [
           {
            "line": {
             "colorbar": {
              "outlinewidth": 0,
              "ticks": ""
             }
            },
            "marker": {
             "colorbar": {
              "outlinewidth": 0,
              "ticks": ""
             }
            },
            "type": "scatter3d"
           }
          ],
          "scattercarpet": [
           {
            "marker": {
             "colorbar": {
              "outlinewidth": 0,
              "ticks": ""
             }
            },
            "type": "scattercarpet"
           }
          ],
          "scattergeo": [
           {
            "marker": {
             "colorbar": {
              "outlinewidth": 0,
              "ticks": ""
             }
            },
            "type": "scattergeo"
           }
          ],
          "scattergl": [
           {
            "marker": {
             "colorbar": {
              "outlinewidth": 0,
              "ticks": ""
             }
            },
            "type": "scattergl"
           }
          ],
          "scattermapbox": [
           {
            "marker": {
             "colorbar": {
              "outlinewidth": 0,
              "ticks": ""
             }
            },
            "type": "scattermapbox"
           }
          ],
          "scatterpolar": [
           {
            "marker": {
             "colorbar": {
              "outlinewidth": 0,
              "ticks": ""
             }
            },
            "type": "scatterpolar"
           }
          ],
          "scatterpolargl": [
           {
            "marker": {
             "colorbar": {
              "outlinewidth": 0,
              "ticks": ""
             }
            },
            "type": "scatterpolargl"
           }
          ],
          "scatterternary": [
           {
            "marker": {
             "colorbar": {
              "outlinewidth": 0,
              "ticks": ""
             }
            },
            "type": "scatterternary"
           }
          ],
          "surface": [
           {
            "colorbar": {
             "outlinewidth": 0,
             "ticks": ""
            },
            "colorscale": [
             [
              0,
              "#0d0887"
             ],
             [
              0.1111111111111111,
              "#46039f"
             ],
             [
              0.2222222222222222,
              "#7201a8"
             ],
             [
              0.3333333333333333,
              "#9c179e"
             ],
             [
              0.4444444444444444,
              "#bd3786"
             ],
             [
              0.5555555555555556,
              "#d8576b"
             ],
             [
              0.6666666666666666,
              "#ed7953"
             ],
             [
              0.7777777777777778,
              "#fb9f3a"
             ],
             [
              0.8888888888888888,
              "#fdca26"
             ],
             [
              1,
              "#f0f921"
             ]
            ],
            "type": "surface"
           }
          ],
          "table": [
           {
            "cells": {
             "fill": {
              "color": "#EBF0F8"
             },
             "line": {
              "color": "white"
             }
            },
            "header": {
             "fill": {
              "color": "#C8D4E3"
             },
             "line": {
              "color": "white"
             }
            },
            "type": "table"
           }
          ]
         },
         "layout": {
          "annotationdefaults": {
           "arrowcolor": "#2a3f5f",
           "arrowhead": 0,
           "arrowwidth": 1
          },
          "autotypenumbers": "strict",
          "coloraxis": {
           "colorbar": {
            "outlinewidth": 0,
            "ticks": ""
           }
          },
          "colorscale": {
           "diverging": [
            [
             0,
             "#8e0152"
            ],
            [
             0.1,
             "#c51b7d"
            ],
            [
             0.2,
             "#de77ae"
            ],
            [
             0.3,
             "#f1b6da"
            ],
            [
             0.4,
             "#fde0ef"
            ],
            [
             0.5,
             "#f7f7f7"
            ],
            [
             0.6,
             "#e6f5d0"
            ],
            [
             0.7,
             "#b8e186"
            ],
            [
             0.8,
             "#7fbc41"
            ],
            [
             0.9,
             "#4d9221"
            ],
            [
             1,
             "#276419"
            ]
           ],
           "sequential": [
            [
             0,
             "#0d0887"
            ],
            [
             0.1111111111111111,
             "#46039f"
            ],
            [
             0.2222222222222222,
             "#7201a8"
            ],
            [
             0.3333333333333333,
             "#9c179e"
            ],
            [
             0.4444444444444444,
             "#bd3786"
            ],
            [
             0.5555555555555556,
             "#d8576b"
            ],
            [
             0.6666666666666666,
             "#ed7953"
            ],
            [
             0.7777777777777778,
             "#fb9f3a"
            ],
            [
             0.8888888888888888,
             "#fdca26"
            ],
            [
             1,
             "#f0f921"
            ]
           ],
           "sequentialminus": [
            [
             0,
             "#0d0887"
            ],
            [
             0.1111111111111111,
             "#46039f"
            ],
            [
             0.2222222222222222,
             "#7201a8"
            ],
            [
             0.3333333333333333,
             "#9c179e"
            ],
            [
             0.4444444444444444,
             "#bd3786"
            ],
            [
             0.5555555555555556,
             "#d8576b"
            ],
            [
             0.6666666666666666,
             "#ed7953"
            ],
            [
             0.7777777777777778,
             "#fb9f3a"
            ],
            [
             0.8888888888888888,
             "#fdca26"
            ],
            [
             1,
             "#f0f921"
            ]
           ]
          },
          "colorway": [
           "#636efa",
           "#EF553B",
           "#00cc96",
           "#ab63fa",
           "#FFA15A",
           "#19d3f3",
           "#FF6692",
           "#B6E880",
           "#FF97FF",
           "#FECB52"
          ],
          "font": {
           "color": "#2a3f5f"
          },
          "geo": {
           "bgcolor": "white",
           "lakecolor": "white",
           "landcolor": "#E5ECF6",
           "showlakes": true,
           "showland": true,
           "subunitcolor": "white"
          },
          "hoverlabel": {
           "align": "left"
          },
          "hovermode": "closest",
          "mapbox": {
           "style": "light"
          },
          "paper_bgcolor": "white",
          "plot_bgcolor": "#E5ECF6",
          "polar": {
           "angularaxis": {
            "gridcolor": "white",
            "linecolor": "white",
            "ticks": ""
           },
           "bgcolor": "#E5ECF6",
           "radialaxis": {
            "gridcolor": "white",
            "linecolor": "white",
            "ticks": ""
           }
          },
          "scene": {
           "xaxis": {
            "backgroundcolor": "#E5ECF6",
            "gridcolor": "white",
            "gridwidth": 2,
            "linecolor": "white",
            "showbackground": true,
            "ticks": "",
            "zerolinecolor": "white"
           },
           "yaxis": {
            "backgroundcolor": "#E5ECF6",
            "gridcolor": "white",
            "gridwidth": 2,
            "linecolor": "white",
            "showbackground": true,
            "ticks": "",
            "zerolinecolor": "white"
           },
           "zaxis": {
            "backgroundcolor": "#E5ECF6",
            "gridcolor": "white",
            "gridwidth": 2,
            "linecolor": "white",
            "showbackground": true,
            "ticks": "",
            "zerolinecolor": "white"
           }
          },
          "shapedefaults": {
           "line": {
            "color": "#2a3f5f"
           }
          },
          "ternary": {
           "aaxis": {
            "gridcolor": "white",
            "linecolor": "white",
            "ticks": ""
           },
           "baxis": {
            "gridcolor": "white",
            "linecolor": "white",
            "ticks": ""
           },
           "bgcolor": "#E5ECF6",
           "caxis": {
            "gridcolor": "white",
            "linecolor": "white",
            "ticks": ""
           }
          },
          "title": {
           "x": 0.05
          },
          "xaxis": {
           "automargin": true,
           "gridcolor": "white",
           "linecolor": "white",
           "ticks": "",
           "title": {
            "standoff": 15
           },
           "zerolinecolor": "white",
           "zerolinewidth": 2
          },
          "yaxis": {
           "automargin": true,
           "gridcolor": "white",
           "linecolor": "white",
           "ticks": "",
           "title": {
            "standoff": 15
           },
           "zerolinecolor": "white",
           "zerolinewidth": 2
          }
         }
        },
        "title": {
         "text": "2 first components of PCA"
        },
        "xaxis": {
         "anchor": "y",
         "domain": [
          0,
          0.7363
         ],
         "title": {
          "text": "first_compo"
         }
        },
        "xaxis2": {
         "anchor": "y2",
         "domain": [
          0.7413,
          1
         ],
         "matches": "x2",
         "showgrid": false,
         "showline": false,
         "showticklabels": false,
         "ticks": ""
        },
        "xaxis3": {
         "anchor": "y3",
         "domain": [
          0,
          0.7363
         ],
         "matches": "x",
         "showgrid": true,
         "showticklabels": false
        },
        "xaxis4": {
         "anchor": "y4",
         "domain": [
          0.7413,
          1
         ],
         "matches": "x2",
         "showgrid": false,
         "showline": false,
         "showticklabels": false,
         "ticks": ""
        },
        "yaxis": {
         "anchor": "x",
         "domain": [
          0,
          0.7326
         ],
         "title": {
          "text": "second_compo"
         }
        },
        "yaxis2": {
         "anchor": "x2",
         "domain": [
          0,
          0.7326
         ],
         "matches": "y",
         "showgrid": true,
         "showticklabels": false
        },
        "yaxis3": {
         "anchor": "x3",
         "domain": [
          0.7426,
          1
         ],
         "matches": "y3",
         "showgrid": false,
         "showline": false,
         "showticklabels": false,
         "ticks": ""
        },
        "yaxis4": {
         "anchor": "x4",
         "domain": [
          0.7426,
          1
         ],
         "matches": "y3",
         "showgrid": true,
         "showline": false,
         "showticklabels": false,
         "ticks": ""
        }
       }
      }
     },
     "metadata": {},
     "output_type": "display_data"
    }
   ],
   "source": [
    "df = pd.DataFrame({\n",
    "'class':y.astype(str), 'first_compo':proj[:,0].T, 'second_compo':proj[:,1].T, 'third_compo':proj[:,2].T\n",
    "})\n",
    "\n",
    "fig = px.scatter(df, x='first_compo', y='second_compo',color=\"class\", symbol='class',\n",
    "                 marginal_x=\"box\", marginal_y=\"box\",\n",
    "                    title=\"2 first components of PCA\")\n",
    "fig.show()"
   ]
  },
  {
   "cell_type": "code",
   "execution_count": 8,
   "metadata": {},
   "outputs": [
    {
     "data": {
      "application/vnd.plotly.v1+json": {
       "config": {
        "plotlyServerURL": "https://plot.ly"
       },
       "data": [
        {
         "hovertemplate": "class=0<br>first_compo=%{x}<br>second_compo=%{y}<br>third_compo=%{z}<extra></extra>",
         "legendgroup": "0",
         "marker": {
          "color": "#636efa",
          "symbol": "circle"
         },
         "mode": "markers",
         "name": "0",
         "scene": "scene",
         "showlegend": true,
         "type": "scatter3d",
         "x": [
          0.6877742377165382,
          -171.59297825459043,
          -165.86207869276717,
          -172.74312526433434,
          8687.468339688894,
          -93.193359718498,
          -157.91433336280573,
          -178.74858404627633
         ],
         "y": [
          133.8414823396356,
          -188.64280457264377,
          -185.7911436654498,
          -61.802814488902364,
          -298.73242125686085,
          -187.78527068794548,
          -158.1645854314578,
          -166.37995070081078
         ],
         "z": [
          98.8116783822931,
          -21.24249418248799,
          -26.87165964168422,
          -2.70959163872854,
          -30.504271500820295,
          -18.035863766459293,
          -30.571643718157418,
          -17.42040358964995
         ]
        },
        {
         "hovertemplate": "class=1<br>first_compo=%{x}<br>second_compo=%{y}<br>third_compo=%{z}<extra></extra>",
         "legendgroup": "1",
         "marker": {
          "color": "#EF553B",
          "symbol": "diamond"
         },
         "mode": "markers",
         "name": "1",
         "scene": "scene",
         "showlegend": true,
         "type": "scatter3d",
         "x": [
          -82.86779368410427,
          32.58861804076429,
          100.88518010192264,
          -86.04701853400093,
          -154.2916881051552,
          -183.46298988167743,
          -134.26905061216488,
          461.28271938702096
         ],
         "y": [
          176.73082922618755,
          62.71100881393294,
          776.4829711385634,
          -58.60802448131648,
          -213.01644137350826,
          -227.6230302171381,
          -82.51638433161403,
          2762.698283069084
         ],
         "z": [
          81.74086460305988,
          82.10326856894983,
          47.298713643562834,
          -51.69320014686315,
          10.652603136764421,
          -42.15050335293908,
          -36.612491138513455,
          -114.35801273167506
         ]
        },
        {
         "hovertemplate": "class=2<br>first_compo=%{x}<br>second_compo=%{y}<br>third_compo=%{z}<extra></extra>",
         "legendgroup": "2",
         "marker": {
          "color": "#00cc96",
          "symbol": "square"
         },
         "mode": "markers",
         "name": "2",
         "scene": "scene",
         "showlegend": true,
         "type": "scatter3d",
         "x": [
          -134.01564802683643,
          -48.30858540835613,
          -181.8371814437231,
          143.80989953268707,
          -166.0915237556375,
          -135.7644820978713,
          -92.37483153259844,
          -144.02062682462918
         ],
         "y": [
          -179.94951041430554,
          168.9587090980858,
          -167.0719528450936,
          1149.5041991279431,
          -127.04788548227717,
          -212.96460136032215,
          -2.2958059867557425,
          -55.441577044371094
         ],
         "z": [
          -19.41706157216327,
          66.04413377727431,
          -23.52711120625119,
          62.364908251905334,
          -58.38062039013066,
          -8.447257325234233,
          -6.908397968765305,
          -29.9508462423406
         ]
        },
        {
         "hovertemplate": "class=3<br>first_compo=%{x}<br>second_compo=%{y}<br>third_compo=%{z}<extra></extra>",
         "legendgroup": "3",
         "marker": {
          "color": "#ab63fa",
          "symbol": "x"
         },
         "mode": "markers",
         "name": "3",
         "scene": "scene",
         "showlegend": true,
         "type": "scatter3d",
         "x": [
          -76.93259075840176,
          -12.417982183147263,
          -179.44520717980643,
          -161.4444598103719,
          -176.95966917831709,
          -160.1933130465808,
          -112.39445590376674,
          -23.3384856507733
         ],
         "y": [
          -15.478908835525463,
          7.475834128002642,
          -100.05744059637792,
          -143.9339340663296,
          -88.09671481609472,
          32.48157163311292,
          -56.36117425561861,
          143.66857394227426
         ],
         "z": [
          -43.754673705266,
          -31.06416649424572,
          -58.42752596049105,
          -20.85456426373877,
          3.2140470224744875,
          -117.94294852193234,
          -10.066515824113802,
          533.5443645228039
         ]
        },
        {
         "hovertemplate": "class=4<br>first_compo=%{x}<br>second_compo=%{y}<br>third_compo=%{z}<extra></extra>",
         "legendgroup": "4",
         "marker": {
          "color": "#FFA15A",
          "symbol": "cross"
         },
         "mode": "markers",
         "name": "4",
         "scene": "scene",
         "showlegend": true,
         "type": "scatter3d",
         "x": [
          -139.40887232347887,
          -159.9303721497919,
          -182.53407658008453,
          -178.145550720532,
          -147.81701243378384,
          -149.09407166548846,
          -118.846336651892,
          -179.23742874678706
         ],
         "y": [
          -117.33895451077622,
          -116.21886749598904,
          -211.74551394413197,
          -181.37001445163378,
          -186.47641154540355,
          -46.35621134392884,
          -151.39485222327536,
          -111.85880002000688
         ],
         "z": [
          -26.841723498984845,
          -45.73314927892995,
          -36.15654323822885,
          -43.6143600817607,
          -35.068244524528765,
          3.3921261103709592,
          -52.04802202471783,
          -57.82149955926313
         ]
        },
        {
         "hovertemplate": "class=5<br>first_compo=%{x}<br>second_compo=%{y}<br>third_compo=%{z}<extra></extra>",
         "legendgroup": "5",
         "marker": {
          "color": "#19d3f3",
          "symbol": "circle"
         },
         "mode": "markers",
         "name": "5",
         "scene": "scene",
         "showlegend": true,
         "type": "scatter3d",
         "x": [
          -140.2439882751865,
          -175.8056339163388,
          -78.54314312848234,
          -25.269015506199192,
          -112.16269456754392,
          -165.26041261728022,
          -182.69071120263996,
          -172.85891614835828
         ],
         "y": [
          -157.25263998103048,
          -177.61853572374352,
          36.037172487762,
          462.5895975438504,
          -158.13573818489874,
          11.87541439579282,
          -200.49774428026697,
          111.94376759134575
         ],
         "z": [
          -58.580658331789714,
          -29.54787563853983,
          -48.286099521465225,
          -142.52962145773884,
          -22.131906205181565,
          -54.16500189538322,
          -40.256443884036855,
          -100.34448614240729
         ]
        },
        {
         "hovertemplate": "class=6<br>first_compo=%{x}<br>second_compo=%{y}<br>third_compo=%{z}<extra></extra>",
         "legendgroup": "6",
         "marker": {
          "color": "#FF6692",
          "symbol": "diamond"
         },
         "mode": "markers",
         "name": "6",
         "scene": "scene",
         "showlegend": true,
         "type": "scatter3d",
         "x": [
          -178.33747133057935,
          -182.86325983787566,
          -157.3842611735475,
          -166.3640595076951,
          -144.57938178844083,
          -33.67241709363953,
          -112.08002006599345,
          -178.41529126273795
         ],
         "y": [
          -173.46078510398561,
          -204.29181477220436,
          -97.3109630326904,
          -71.3593546153989,
          -135.02478994830463,
          300.0308116818759,
          -25.67439234505691,
          -15.728993679979347
         ],
         "z": [
          -7.816321820335988,
          -43.67816532508908,
          -44.18719624996633,
          -29.9642486066928,
          -35.33777311070796,
          -29.066705626156843,
          6.899016870537869,
          -104.07504678237163
         ]
        },
        {
         "hovertemplate": "class=7<br>first_compo=%{x}<br>second_compo=%{y}<br>third_compo=%{z}<extra></extra>",
         "legendgroup": "7",
         "marker": {
          "color": "#B6E880",
          "symbol": "square"
         },
         "mode": "markers",
         "name": "7",
         "scene": "scene",
         "showlegend": true,
         "type": "scatter3d",
         "x": [
          -112.33471695061009,
          -161.22939211194787,
          61.8669294002372,
          -180.15701523109792,
          -12.320064584655155,
          -170.04417448965685,
          -102.98941798266758,
          -130.2365708266986
         ],
         "y": [
          -94.09260121619432,
          -31.872748104331585,
          372.46395188346446,
          -140.66181479959306,
          -9.84975499807761,
          -191.4441729961528,
          338.4116734971419,
          -4.7461575069328115
         ],
         "z": [
          114.58241331394711,
          -18.24235391620885,
          99.1393355732128,
          -32.33250947632604,
          1202.9875164495093,
          -20.277504154877786,
          -86.16557054936291,
          -79.76362310235014
         ]
        },
        {
         "hovertemplate": "class=8<br>first_compo=%{x}<br>second_compo=%{y}<br>third_compo=%{z}<extra></extra>",
         "legendgroup": "8",
         "marker": {
          "color": "#FF97FF",
          "symbol": "x"
         },
         "mode": "markers",
         "name": "8",
         "scene": "scene",
         "showlegend": true,
         "type": "scatter3d",
         "x": [
          -178.74290349834948,
          -145.98032795246746,
          -174.01939166554007,
          -180.5412339630262,
          -35.55002551132104,
          -116.05734879797524,
          139.69827756626256,
          -98.94094866338853
         ],
         "y": [
          -47.13807592388876,
          -234.679887550579,
          -117.8766254675251,
          -108.87780098548662,
          -138.26029405400504,
          -127.34851953269686,
          236.70747686268805,
          226.8009518306942
         ],
         "z": [
          -86.89998775837938,
          -34.629822001965614,
          -58.514695886001654,
          -92.12613283639365,
          138.28271253684233,
          18.499092020033515,
          -43.757998857885944,
          -49.88522023641974
         ]
        },
        {
         "hovertemplate": "class=9<br>first_compo=%{x}<br>second_compo=%{y}<br>third_compo=%{z}<extra></extra>",
         "legendgroup": "9",
         "marker": {
          "color": "#FECB52",
          "symbol": "cross"
         },
         "mode": "markers",
         "name": "9",
         "scene": "scene",
         "showlegend": true,
         "type": "scatter3d",
         "x": [
          -182.59547340065586,
          60.76693209433015,
          -174.30832117282014,
          -177.9026108831019,
          -21.651284877138956,
          -127.13815029365037,
          -177.79667168958423,
          -180.442183851912
         ],
         "y": [
          -136.6087373571763,
          187.39303015834906,
          -162.16923235672672,
          -129.75130034976334,
          -121.61776949531267,
          -62.20453372459047,
          -117.58515140739557,
          -205.14437850993318
         ],
         "z": [
          -47.20221359949175,
          74.19430063693078,
          -27.17116187797889,
          -70.39549417229588,
          37.27454635583252,
          -35.366356708099936,
          51.55169115776777,
          -41.68377011310649
         ]
        }
       ],
       "layout": {
        "legend": {
         "title": {
          "text": "class"
         },
         "tracegroupgap": 0
        },
        "scene": {
         "domain": {
          "x": [
           0,
           1
          ],
          "y": [
           0,
           1
          ]
         },
         "xaxis": {
          "title": {
           "text": "first_compo"
          }
         },
         "yaxis": {
          "title": {
           "text": "second_compo"
          }
         },
         "zaxis": {
          "title": {
           "text": "third_compo"
          }
         }
        },
        "template": {
         "data": {
          "bar": [
           {
            "error_x": {
             "color": "#2a3f5f"
            },
            "error_y": {
             "color": "#2a3f5f"
            },
            "marker": {
             "line": {
              "color": "#E5ECF6",
              "width": 0.5
             },
             "pattern": {
              "fillmode": "overlay",
              "size": 10,
              "solidity": 0.2
             }
            },
            "type": "bar"
           }
          ],
          "barpolar": [
           {
            "marker": {
             "line": {
              "color": "#E5ECF6",
              "width": 0.5
             },
             "pattern": {
              "fillmode": "overlay",
              "size": 10,
              "solidity": 0.2
             }
            },
            "type": "barpolar"
           }
          ],
          "carpet": [
           {
            "aaxis": {
             "endlinecolor": "#2a3f5f",
             "gridcolor": "white",
             "linecolor": "white",
             "minorgridcolor": "white",
             "startlinecolor": "#2a3f5f"
            },
            "baxis": {
             "endlinecolor": "#2a3f5f",
             "gridcolor": "white",
             "linecolor": "white",
             "minorgridcolor": "white",
             "startlinecolor": "#2a3f5f"
            },
            "type": "carpet"
           }
          ],
          "choropleth": [
           {
            "colorbar": {
             "outlinewidth": 0,
             "ticks": ""
            },
            "type": "choropleth"
           }
          ],
          "contour": [
           {
            "colorbar": {
             "outlinewidth": 0,
             "ticks": ""
            },
            "colorscale": [
             [
              0,
              "#0d0887"
             ],
             [
              0.1111111111111111,
              "#46039f"
             ],
             [
              0.2222222222222222,
              "#7201a8"
             ],
             [
              0.3333333333333333,
              "#9c179e"
             ],
             [
              0.4444444444444444,
              "#bd3786"
             ],
             [
              0.5555555555555556,
              "#d8576b"
             ],
             [
              0.6666666666666666,
              "#ed7953"
             ],
             [
              0.7777777777777778,
              "#fb9f3a"
             ],
             [
              0.8888888888888888,
              "#fdca26"
             ],
             [
              1,
              "#f0f921"
             ]
            ],
            "type": "contour"
           }
          ],
          "contourcarpet": [
           {
            "colorbar": {
             "outlinewidth": 0,
             "ticks": ""
            },
            "type": "contourcarpet"
           }
          ],
          "heatmap": [
           {
            "colorbar": {
             "outlinewidth": 0,
             "ticks": ""
            },
            "colorscale": [
             [
              0,
              "#0d0887"
             ],
             [
              0.1111111111111111,
              "#46039f"
             ],
             [
              0.2222222222222222,
              "#7201a8"
             ],
             [
              0.3333333333333333,
              "#9c179e"
             ],
             [
              0.4444444444444444,
              "#bd3786"
             ],
             [
              0.5555555555555556,
              "#d8576b"
             ],
             [
              0.6666666666666666,
              "#ed7953"
             ],
             [
              0.7777777777777778,
              "#fb9f3a"
             ],
             [
              0.8888888888888888,
              "#fdca26"
             ],
             [
              1,
              "#f0f921"
             ]
            ],
            "type": "heatmap"
           }
          ],
          "heatmapgl": [
           {
            "colorbar": {
             "outlinewidth": 0,
             "ticks": ""
            },
            "colorscale": [
             [
              0,
              "#0d0887"
             ],
             [
              0.1111111111111111,
              "#46039f"
             ],
             [
              0.2222222222222222,
              "#7201a8"
             ],
             [
              0.3333333333333333,
              "#9c179e"
             ],
             [
              0.4444444444444444,
              "#bd3786"
             ],
             [
              0.5555555555555556,
              "#d8576b"
             ],
             [
              0.6666666666666666,
              "#ed7953"
             ],
             [
              0.7777777777777778,
              "#fb9f3a"
             ],
             [
              0.8888888888888888,
              "#fdca26"
             ],
             [
              1,
              "#f0f921"
             ]
            ],
            "type": "heatmapgl"
           }
          ],
          "histogram": [
           {
            "marker": {
             "pattern": {
              "fillmode": "overlay",
              "size": 10,
              "solidity": 0.2
             }
            },
            "type": "histogram"
           }
          ],
          "histogram2d": [
           {
            "colorbar": {
             "outlinewidth": 0,
             "ticks": ""
            },
            "colorscale": [
             [
              0,
              "#0d0887"
             ],
             [
              0.1111111111111111,
              "#46039f"
             ],
             [
              0.2222222222222222,
              "#7201a8"
             ],
             [
              0.3333333333333333,
              "#9c179e"
             ],
             [
              0.4444444444444444,
              "#bd3786"
             ],
             [
              0.5555555555555556,
              "#d8576b"
             ],
             [
              0.6666666666666666,
              "#ed7953"
             ],
             [
              0.7777777777777778,
              "#fb9f3a"
             ],
             [
              0.8888888888888888,
              "#fdca26"
             ],
             [
              1,
              "#f0f921"
             ]
            ],
            "type": "histogram2d"
           }
          ],
          "histogram2dcontour": [
           {
            "colorbar": {
             "outlinewidth": 0,
             "ticks": ""
            },
            "colorscale": [
             [
              0,
              "#0d0887"
             ],
             [
              0.1111111111111111,
              "#46039f"
             ],
             [
              0.2222222222222222,
              "#7201a8"
             ],
             [
              0.3333333333333333,
              "#9c179e"
             ],
             [
              0.4444444444444444,
              "#bd3786"
             ],
             [
              0.5555555555555556,
              "#d8576b"
             ],
             [
              0.6666666666666666,
              "#ed7953"
             ],
             [
              0.7777777777777778,
              "#fb9f3a"
             ],
             [
              0.8888888888888888,
              "#fdca26"
             ],
             [
              1,
              "#f0f921"
             ]
            ],
            "type": "histogram2dcontour"
           }
          ],
          "mesh3d": [
           {
            "colorbar": {
             "outlinewidth": 0,
             "ticks": ""
            },
            "type": "mesh3d"
           }
          ],
          "parcoords": [
           {
            "line": {
             "colorbar": {
              "outlinewidth": 0,
              "ticks": ""
             }
            },
            "type": "parcoords"
           }
          ],
          "pie": [
           {
            "automargin": true,
            "type": "pie"
           }
          ],
          "scatter": [
           {
            "marker": {
             "colorbar": {
              "outlinewidth": 0,
              "ticks": ""
             }
            },
            "type": "scatter"
           }
          ],
          "scatter3d": [
           {
            "line": {
             "colorbar": {
              "outlinewidth": 0,
              "ticks": ""
             }
            },
            "marker": {
             "colorbar": {
              "outlinewidth": 0,
              "ticks": ""
             }
            },
            "type": "scatter3d"
           }
          ],
          "scattercarpet": [
           {
            "marker": {
             "colorbar": {
              "outlinewidth": 0,
              "ticks": ""
             }
            },
            "type": "scattercarpet"
           }
          ],
          "scattergeo": [
           {
            "marker": {
             "colorbar": {
              "outlinewidth": 0,
              "ticks": ""
             }
            },
            "type": "scattergeo"
           }
          ],
          "scattergl": [
           {
            "marker": {
             "colorbar": {
              "outlinewidth": 0,
              "ticks": ""
             }
            },
            "type": "scattergl"
           }
          ],
          "scattermapbox": [
           {
            "marker": {
             "colorbar": {
              "outlinewidth": 0,
              "ticks": ""
             }
            },
            "type": "scattermapbox"
           }
          ],
          "scatterpolar": [
           {
            "marker": {
             "colorbar": {
              "outlinewidth": 0,
              "ticks": ""
             }
            },
            "type": "scatterpolar"
           }
          ],
          "scatterpolargl": [
           {
            "marker": {
             "colorbar": {
              "outlinewidth": 0,
              "ticks": ""
             }
            },
            "type": "scatterpolargl"
           }
          ],
          "scatterternary": [
           {
            "marker": {
             "colorbar": {
              "outlinewidth": 0,
              "ticks": ""
             }
            },
            "type": "scatterternary"
           }
          ],
          "surface": [
           {
            "colorbar": {
             "outlinewidth": 0,
             "ticks": ""
            },
            "colorscale": [
             [
              0,
              "#0d0887"
             ],
             [
              0.1111111111111111,
              "#46039f"
             ],
             [
              0.2222222222222222,
              "#7201a8"
             ],
             [
              0.3333333333333333,
              "#9c179e"
             ],
             [
              0.4444444444444444,
              "#bd3786"
             ],
             [
              0.5555555555555556,
              "#d8576b"
             ],
             [
              0.6666666666666666,
              "#ed7953"
             ],
             [
              0.7777777777777778,
              "#fb9f3a"
             ],
             [
              0.8888888888888888,
              "#fdca26"
             ],
             [
              1,
              "#f0f921"
             ]
            ],
            "type": "surface"
           }
          ],
          "table": [
           {
            "cells": {
             "fill": {
              "color": "#EBF0F8"
             },
             "line": {
              "color": "white"
             }
            },
            "header": {
             "fill": {
              "color": "#C8D4E3"
             },
             "line": {
              "color": "white"
             }
            },
            "type": "table"
           }
          ]
         },
         "layout": {
          "annotationdefaults": {
           "arrowcolor": "#2a3f5f",
           "arrowhead": 0,
           "arrowwidth": 1
          },
          "autotypenumbers": "strict",
          "coloraxis": {
           "colorbar": {
            "outlinewidth": 0,
            "ticks": ""
           }
          },
          "colorscale": {
           "diverging": [
            [
             0,
             "#8e0152"
            ],
            [
             0.1,
             "#c51b7d"
            ],
            [
             0.2,
             "#de77ae"
            ],
            [
             0.3,
             "#f1b6da"
            ],
            [
             0.4,
             "#fde0ef"
            ],
            [
             0.5,
             "#f7f7f7"
            ],
            [
             0.6,
             "#e6f5d0"
            ],
            [
             0.7,
             "#b8e186"
            ],
            [
             0.8,
             "#7fbc41"
            ],
            [
             0.9,
             "#4d9221"
            ],
            [
             1,
             "#276419"
            ]
           ],
           "sequential": [
            [
             0,
             "#0d0887"
            ],
            [
             0.1111111111111111,
             "#46039f"
            ],
            [
             0.2222222222222222,
             "#7201a8"
            ],
            [
             0.3333333333333333,
             "#9c179e"
            ],
            [
             0.4444444444444444,
             "#bd3786"
            ],
            [
             0.5555555555555556,
             "#d8576b"
            ],
            [
             0.6666666666666666,
             "#ed7953"
            ],
            [
             0.7777777777777778,
             "#fb9f3a"
            ],
            [
             0.8888888888888888,
             "#fdca26"
            ],
            [
             1,
             "#f0f921"
            ]
           ],
           "sequentialminus": [
            [
             0,
             "#0d0887"
            ],
            [
             0.1111111111111111,
             "#46039f"
            ],
            [
             0.2222222222222222,
             "#7201a8"
            ],
            [
             0.3333333333333333,
             "#9c179e"
            ],
            [
             0.4444444444444444,
             "#bd3786"
            ],
            [
             0.5555555555555556,
             "#d8576b"
            ],
            [
             0.6666666666666666,
             "#ed7953"
            ],
            [
             0.7777777777777778,
             "#fb9f3a"
            ],
            [
             0.8888888888888888,
             "#fdca26"
            ],
            [
             1,
             "#f0f921"
            ]
           ]
          },
          "colorway": [
           "#636efa",
           "#EF553B",
           "#00cc96",
           "#ab63fa",
           "#FFA15A",
           "#19d3f3",
           "#FF6692",
           "#B6E880",
           "#FF97FF",
           "#FECB52"
          ],
          "font": {
           "color": "#2a3f5f"
          },
          "geo": {
           "bgcolor": "white",
           "lakecolor": "white",
           "landcolor": "#E5ECF6",
           "showlakes": true,
           "showland": true,
           "subunitcolor": "white"
          },
          "hoverlabel": {
           "align": "left"
          },
          "hovermode": "closest",
          "mapbox": {
           "style": "light"
          },
          "paper_bgcolor": "white",
          "plot_bgcolor": "#E5ECF6",
          "polar": {
           "angularaxis": {
            "gridcolor": "white",
            "linecolor": "white",
            "ticks": ""
           },
           "bgcolor": "#E5ECF6",
           "radialaxis": {
            "gridcolor": "white",
            "linecolor": "white",
            "ticks": ""
           }
          },
          "scene": {
           "xaxis": {
            "backgroundcolor": "#E5ECF6",
            "gridcolor": "white",
            "gridwidth": 2,
            "linecolor": "white",
            "showbackground": true,
            "ticks": "",
            "zerolinecolor": "white"
           },
           "yaxis": {
            "backgroundcolor": "#E5ECF6",
            "gridcolor": "white",
            "gridwidth": 2,
            "linecolor": "white",
            "showbackground": true,
            "ticks": "",
            "zerolinecolor": "white"
           },
           "zaxis": {
            "backgroundcolor": "#E5ECF6",
            "gridcolor": "white",
            "gridwidth": 2,
            "linecolor": "white",
            "showbackground": true,
            "ticks": "",
            "zerolinecolor": "white"
           }
          },
          "shapedefaults": {
           "line": {
            "color": "#2a3f5f"
           }
          },
          "ternary": {
           "aaxis": {
            "gridcolor": "white",
            "linecolor": "white",
            "ticks": ""
           },
           "baxis": {
            "gridcolor": "white",
            "linecolor": "white",
            "ticks": ""
           },
           "bgcolor": "#E5ECF6",
           "caxis": {
            "gridcolor": "white",
            "linecolor": "white",
            "ticks": ""
           }
          },
          "title": {
           "x": 0.05
          },
          "xaxis": {
           "automargin": true,
           "gridcolor": "white",
           "linecolor": "white",
           "ticks": "",
           "title": {
            "standoff": 15
           },
           "zerolinecolor": "white",
           "zerolinewidth": 2
          },
          "yaxis": {
           "automargin": true,
           "gridcolor": "white",
           "linecolor": "white",
           "ticks": "",
           "title": {
            "standoff": 15
           },
           "zerolinecolor": "white",
           "zerolinewidth": 2
          }
         }
        },
        "title": {
         "text": "3 first components of PCA"
        }
       }
      }
     },
     "metadata": {},
     "output_type": "display_data"
    }
   ],
   "source": [
    "fig = px.scatter_3d(df, x='first_compo', y='second_compo',z='third_compo',color='class',symbol='class',\n",
    "                    title=\"3 first components of PCA\")\n",
    "fig.show()"
   ]
  },
  {
   "cell_type": "code",
   "execution_count": 9,
   "metadata": {},
   "outputs": [
    {
     "data": {
      "application/vnd.plotly.v1+json": {
       "config": {
        "plotlyServerURL": "https://plot.ly"
       },
       "data": [
        {
         "hovertemplate": "class=0<br>first_compo=%{x}<br>second_compo=%{y}<extra></extra>",
         "legendgroup": "0",
         "marker": {
          "color": "#636efa",
          "symbol": "circle"
         },
         "mode": "markers",
         "name": "0",
         "orientation": "v",
         "showlegend": true,
         "type": "scatter",
         "x": [
          -2.0889268973280237,
          -2.463231225209319,
          -2.4380994905992295,
          1.8176648271872113,
          -4.486491490967254,
          -2.5450100341158826,
          1.2410248799189652,
          -3.4542448104372188
         ],
         "xaxis": "x",
         "y": [
          0.09196690357352301,
          -1.1356608097413499,
          -0.6540394210207748,
          0.38191363750265755,
          -0.5455547849313189,
          -0.2025283824103805,
          0.9973122285524105,
          -1.141521900832728
         ],
         "yaxis": "y"
        },
        {
         "alignmentgroup": "True",
         "hovertemplate": "class=0<br>first_compo=%{x}<extra></extra>",
         "legendgroup": "0",
         "marker": {
          "color": "#636efa",
          "symbol": "circle"
         },
         "name": "0",
         "notched": true,
         "offsetgroup": "0",
         "showlegend": false,
         "type": "box",
         "x": [
          -2.0889268973280237,
          -2.463231225209319,
          -2.4380994905992295,
          1.8176648271872113,
          -4.486491490967254,
          -2.5450100341158826,
          1.2410248799189652,
          -3.4542448104372188
         ],
         "xaxis": "x3",
         "yaxis": "y3"
        },
        {
         "alignmentgroup": "True",
         "hovertemplate": "class=0<br>second_compo=%{y}<extra></extra>",
         "legendgroup": "0",
         "marker": {
          "color": "#636efa",
          "symbol": "circle"
         },
         "name": "0",
         "notched": true,
         "offsetgroup": "0",
         "showlegend": false,
         "type": "box",
         "xaxis": "x2",
         "y": [
          0.09196690357352301,
          -1.1356608097413499,
          -0.6540394210207748,
          0.38191363750265755,
          -0.5455547849313189,
          -0.2025283824103805,
          0.9973122285524105,
          -1.141521900832728
         ],
         "yaxis": "y2"
        },
        {
         "hovertemplate": "class=1<br>first_compo=%{x}<br>second_compo=%{y}<extra></extra>",
         "legendgroup": "1",
         "marker": {
          "color": "#EF553B",
          "symbol": "diamond"
         },
         "mode": "markers",
         "name": "1",
         "orientation": "v",
         "showlegend": true,
         "type": "scatter",
         "x": [
          0.7270296833751931,
          0.4071938310905802,
          1.5918041407481243,
          0.267662035137679,
          1.3922808235208028,
          0.762754488396516,
          -1.5015052688017654,
          1.5557535369459485
         ],
         "xaxis": "x",
         "y": [
          0.8960663100491353,
          0.018800162946117048,
          0.7446750284016932,
          0.529652704967694,
          0.2747272719578671,
          0.9056753857439088,
          0.028072484266021946,
          1.791223597435701
         ],
         "yaxis": "y"
        },
        {
         "alignmentgroup": "True",
         "hovertemplate": "class=1<br>first_compo=%{x}<extra></extra>",
         "legendgroup": "1",
         "marker": {
          "color": "#EF553B",
          "symbol": "diamond"
         },
         "name": "1",
         "notched": true,
         "offsetgroup": "1",
         "showlegend": false,
         "type": "box",
         "x": [
          0.7270296833751931,
          0.4071938310905802,
          1.5918041407481243,
          0.267662035137679,
          1.3922808235208028,
          0.762754488396516,
          -1.5015052688017654,
          1.5557535369459485
         ],
         "xaxis": "x3",
         "yaxis": "y3"
        },
        {
         "alignmentgroup": "True",
         "hovertemplate": "class=1<br>second_compo=%{y}<extra></extra>",
         "legendgroup": "1",
         "marker": {
          "color": "#EF553B",
          "symbol": "diamond"
         },
         "name": "1",
         "notched": true,
         "offsetgroup": "1",
         "showlegend": false,
         "type": "box",
         "xaxis": "x2",
         "y": [
          0.8960663100491353,
          0.018800162946117048,
          0.7446750284016932,
          0.529652704967694,
          0.2747272719578671,
          0.9056753857439088,
          0.028072484266021946,
          1.791223597435701
         ],
         "yaxis": "y2"
        },
        {
         "hovertemplate": "class=2<br>first_compo=%{x}<br>second_compo=%{y}<extra></extra>",
         "legendgroup": "2",
         "marker": {
          "color": "#00cc96",
          "symbol": "square"
         },
         "mode": "markers",
         "name": "2",
         "orientation": "v",
         "showlegend": true,
         "type": "scatter",
         "x": [
          0.02016259240240699,
          -0.6434805894327997,
          -0.23771824386050175,
          0.706214691167807,
          0.7875932504826475,
          -0.3816807100817997,
          0.250012423196252,
          -0.25079408557179556
         ],
         "xaxis": "x",
         "y": [
          -0.47259290689200073,
          -0.14071766396242635,
          0.2427276293185396,
          0.7558282465675281,
          0.11435373428860832,
          0.701506060866184,
          0.5680533115300501,
          0.26914464922069015
         ],
         "yaxis": "y"
        },
        {
         "alignmentgroup": "True",
         "hovertemplate": "class=2<br>first_compo=%{x}<extra></extra>",
         "legendgroup": "2",
         "marker": {
          "color": "#00cc96",
          "symbol": "square"
         },
         "name": "2",
         "notched": true,
         "offsetgroup": "2",
         "showlegend": false,
         "type": "box",
         "x": [
          0.02016259240240699,
          -0.6434805894327997,
          -0.23771824386050175,
          0.706214691167807,
          0.7875932504826475,
          -0.3816807100817997,
          0.250012423196252,
          -0.25079408557179556
         ],
         "xaxis": "x3",
         "yaxis": "y3"
        },
        {
         "alignmentgroup": "True",
         "hovertemplate": "class=2<br>second_compo=%{y}<extra></extra>",
         "legendgroup": "2",
         "marker": {
          "color": "#00cc96",
          "symbol": "square"
         },
         "name": "2",
         "notched": true,
         "offsetgroup": "2",
         "showlegend": false,
         "type": "box",
         "xaxis": "x2",
         "y": [
          -0.47259290689200073,
          -0.14071766396242635,
          0.2427276293185396,
          0.7558282465675281,
          0.11435373428860832,
          0.701506060866184,
          0.5680533115300501,
          0.26914464922069015
         ],
         "yaxis": "y2"
        },
        {
         "hovertemplate": "class=3<br>first_compo=%{x}<br>second_compo=%{y}<extra></extra>",
         "legendgroup": "3",
         "marker": {
          "color": "#ab63fa",
          "symbol": "x"
         },
         "mode": "markers",
         "name": "3",
         "orientation": "v",
         "showlegend": true,
         "type": "scatter",
         "x": [
          0.3493385264351848,
          0.37156133609092107,
          0.04084207992511815,
          -1.0950930815355857,
          1.021554472971784,
          0.4278117077030972,
          0.09938736000187708,
          0.8265805216983375
         ],
         "xaxis": "x",
         "y": [
          -0.58781699208919,
          -0.7522081091725712,
          -0.0865638850363301,
          0.9743315122766241,
          -0.5185967714164369,
          -0.16394745853014364,
          0.7635430413685657,
          -1.082278414319243
         ],
         "yaxis": "y"
        },
        {
         "alignmentgroup": "True",
         "hovertemplate": "class=3<br>first_compo=%{x}<extra></extra>",
         "legendgroup": "3",
         "marker": {
          "color": "#ab63fa",
          "symbol": "x"
         },
         "name": "3",
         "notched": true,
         "offsetgroup": "3",
         "showlegend": false,
         "type": "box",
         "x": [
          0.3493385264351848,
          0.37156133609092107,
          0.04084207992511815,
          -1.0950930815355857,
          1.021554472971784,
          0.4278117077030972,
          0.09938736000187708,
          0.8265805216983375
         ],
         "xaxis": "x3",
         "yaxis": "y3"
        },
        {
         "alignmentgroup": "True",
         "hovertemplate": "class=3<br>second_compo=%{y}<extra></extra>",
         "legendgroup": "3",
         "marker": {
          "color": "#ab63fa",
          "symbol": "x"
         },
         "name": "3",
         "notched": true,
         "offsetgroup": "3",
         "showlegend": false,
         "type": "box",
         "xaxis": "x2",
         "y": [
          -0.58781699208919,
          -0.7522081091725712,
          -0.0865638850363301,
          0.9743315122766241,
          -0.5185967714164369,
          -0.16394745853014364,
          0.7635430413685657,
          -1.082278414319243
         ],
         "yaxis": "y2"
        },
        {
         "hovertemplate": "class=4<br>first_compo=%{x}<br>second_compo=%{y}<extra></extra>",
         "legendgroup": "4",
         "marker": {
          "color": "#FFA15A",
          "symbol": "cross"
         },
         "mode": "markers",
         "name": "4",
         "orientation": "v",
         "showlegend": true,
         "type": "scatter",
         "x": [
          1.143316563934077,
          -0.14093241147294133,
          -0.9937911063241318,
          0.19663817786403837,
          -0.20207526597749123,
          -0.06060251434633281,
          0.486383788432647,
          -0.09932584812586875
         ],
         "xaxis": "x",
         "y": [
          -0.6705014030789596,
          -1.7034350063382147,
          -0.33975705632914055,
          0.8423982306453801,
          -0.9994775185202257,
          -0.7201412717190245,
          0.6590289230439131,
          -1.6620461634051131
         ],
         "yaxis": "y"
        },
        {
         "alignmentgroup": "True",
         "hovertemplate": "class=4<br>first_compo=%{x}<extra></extra>",
         "legendgroup": "4",
         "marker": {
          "color": "#FFA15A",
          "symbol": "cross"
         },
         "name": "4",
         "notched": true,
         "offsetgroup": "4",
         "showlegend": false,
         "type": "box",
         "x": [
          1.143316563934077,
          -0.14093241147294133,
          -0.9937911063241318,
          0.19663817786403837,
          -0.20207526597749123,
          -0.06060251434633281,
          0.486383788432647,
          -0.09932584812586875
         ],
         "xaxis": "x3",
         "yaxis": "y3"
        },
        {
         "alignmentgroup": "True",
         "hovertemplate": "class=4<br>second_compo=%{y}<extra></extra>",
         "legendgroup": "4",
         "marker": {
          "color": "#FFA15A",
          "symbol": "cross"
         },
         "name": "4",
         "notched": true,
         "offsetgroup": "4",
         "showlegend": false,
         "type": "box",
         "xaxis": "x2",
         "y": [
          -0.6705014030789596,
          -1.7034350063382147,
          -0.33975705632914055,
          0.8423982306453801,
          -0.9994775185202257,
          -0.7201412717190245,
          0.6590289230439131,
          -1.6620461634051131
         ],
         "yaxis": "y2"
        },
        {
         "hovertemplate": "class=5<br>first_compo=%{x}<br>second_compo=%{y}<extra></extra>",
         "legendgroup": "5",
         "marker": {
          "color": "#19d3f3",
          "symbol": "circle"
         },
         "mode": "markers",
         "name": "5",
         "orientation": "v",
         "showlegend": true,
         "type": "scatter",
         "x": [
          2.126660590796584,
          0.38335945812709965,
          1.1422293479937153,
          2.1852571404466223,
          1.2250794967713587,
          0.0981573613231566,
          -0.9890757776431991,
          1.9720210529691535
         ],
         "xaxis": "x",
         "y": [
          -0.8024604209812936,
          1.0126810450565678,
          -0.48257349855050125,
          -0.6752370459955004,
          -0.2740602118465851,
          0.7131874233886806,
          -0.9302733732147044,
          -1.1014690606601047
         ],
         "yaxis": "y"
        },
        {
         "alignmentgroup": "True",
         "hovertemplate": "class=5<br>first_compo=%{x}<extra></extra>",
         "legendgroup": "5",
         "marker": {
          "color": "#19d3f3",
          "symbol": "circle"
         },
         "name": "5",
         "notched": true,
         "offsetgroup": "5",
         "showlegend": false,
         "type": "box",
         "x": [
          2.126660590796584,
          0.38335945812709965,
          1.1422293479937153,
          2.1852571404466223,
          1.2250794967713587,
          0.0981573613231566,
          -0.9890757776431991,
          1.9720210529691535
         ],
         "xaxis": "x3",
         "yaxis": "y3"
        },
        {
         "alignmentgroup": "True",
         "hovertemplate": "class=5<br>second_compo=%{y}<extra></extra>",
         "legendgroup": "5",
         "marker": {
          "color": "#19d3f3",
          "symbol": "circle"
         },
         "name": "5",
         "notched": true,
         "offsetgroup": "5",
         "showlegend": false,
         "type": "box",
         "xaxis": "x2",
         "y": [
          -0.8024604209812936,
          1.0126810450565678,
          -0.48257349855050125,
          -0.6752370459955004,
          -0.2740602118465851,
          0.7131874233886806,
          -0.9302733732147044,
          -1.1014690606601047
         ],
         "yaxis": "y2"
        },
        {
         "hovertemplate": "class=6<br>first_compo=%{x}<br>second_compo=%{y}<extra></extra>",
         "legendgroup": "6",
         "marker": {
          "color": "#FF6692",
          "symbol": "diamond"
         },
         "mode": "markers",
         "name": "6",
         "orientation": "v",
         "showlegend": true,
         "type": "scatter",
         "x": [
          0.4767503605309319,
          -0.5799191591669977,
          -0.25068611760990844,
          0.22353770845470522,
          0.2623904518379698,
          1.7237613986868858,
          -0.28333180231961164,
          0.6687794223889104
         ],
         "xaxis": "x",
         "y": [
          -0.5133676619707433,
          0.035498223927414946,
          -0.011229550923165257,
          0.41940127514987013,
          -1.7251478318566764,
          0.024258981881132673,
          -0.020555593889797233,
          0.03149387520710033
         ],
         "yaxis": "y"
        },
        {
         "alignmentgroup": "True",
         "hovertemplate": "class=6<br>first_compo=%{x}<extra></extra>",
         "legendgroup": "6",
         "marker": {
          "color": "#FF6692",
          "symbol": "diamond"
         },
         "name": "6",
         "notched": true,
         "offsetgroup": "6",
         "showlegend": false,
         "type": "box",
         "x": [
          0.4767503605309319,
          -0.5799191591669977,
          -0.25068611760990844,
          0.22353770845470522,
          0.2623904518379698,
          1.7237613986868858,
          -0.28333180231961164,
          0.6687794223889104
         ],
         "xaxis": "x3",
         "yaxis": "y3"
        },
        {
         "alignmentgroup": "True",
         "hovertemplate": "class=6<br>second_compo=%{y}<extra></extra>",
         "legendgroup": "6",
         "marker": {
          "color": "#FF6692",
          "symbol": "diamond"
         },
         "name": "6",
         "notched": true,
         "offsetgroup": "6",
         "showlegend": false,
         "type": "box",
         "xaxis": "x2",
         "y": [
          -0.5133676619707433,
          0.035498223927414946,
          -0.011229550923165257,
          0.41940127514987013,
          -1.7251478318566764,
          0.024258981881132673,
          -0.020555593889797233,
          0.03149387520710033
         ],
         "yaxis": "y2"
        },
        {
         "hovertemplate": "class=7<br>first_compo=%{x}<br>second_compo=%{y}<extra></extra>",
         "legendgroup": "7",
         "marker": {
          "color": "#B6E880",
          "symbol": "square"
         },
         "mode": "markers",
         "name": "7",
         "orientation": "v",
         "showlegend": true,
         "type": "scatter",
         "x": [
          -0.01295481488236264,
          0.9094317788149862,
          0.07731523472967747,
          -0.5929909031324738,
          -0.176107464492416,
          0.30642056866693484,
          0.8253145311670066,
          -0.9097661355776806
         ],
         "xaxis": "x",
         "y": [
          -2.3254174389570488,
          -1.523922094907094,
          -1.6381566172546969,
          1.0338335724246943,
          -2.187826388308793,
          0.39940486788114105,
          -1.1147936901596465,
          -0.8182638694033051
         ],
         "yaxis": "y"
        },
        {
         "alignmentgroup": "True",
         "hovertemplate": "class=7<br>first_compo=%{x}<extra></extra>",
         "legendgroup": "7",
         "marker": {
          "color": "#B6E880",
          "symbol": "square"
         },
         "name": "7",
         "notched": true,
         "offsetgroup": "7",
         "showlegend": false,
         "type": "box",
         "x": [
          -0.01295481488236264,
          0.9094317788149862,
          0.07731523472967747,
          -0.5929909031324738,
          -0.176107464492416,
          0.30642056866693484,
          0.8253145311670066,
          -0.9097661355776806
         ],
         "xaxis": "x3",
         "yaxis": "y3"
        },
        {
         "alignmentgroup": "True",
         "hovertemplate": "class=7<br>second_compo=%{y}<extra></extra>",
         "legendgroup": "7",
         "marker": {
          "color": "#B6E880",
          "symbol": "square"
         },
         "name": "7",
         "notched": true,
         "offsetgroup": "7",
         "showlegend": false,
         "type": "box",
         "xaxis": "x2",
         "y": [
          -2.3254174389570488,
          -1.523922094907094,
          -1.6381566172546969,
          1.0338335724246943,
          -2.187826388308793,
          0.39940486788114105,
          -1.1147936901596465,
          -0.8182638694033051
         ],
         "yaxis": "y2"
        },
        {
         "hovertemplate": "class=8<br>first_compo=%{x}<br>second_compo=%{y}<extra></extra>",
         "legendgroup": "8",
         "marker": {
          "color": "#FF97FF",
          "symbol": "x"
         },
         "mode": "markers",
         "name": "8",
         "orientation": "v",
         "showlegend": true,
         "type": "scatter",
         "x": [
          0.8704160943657299,
          1.0121203699080685,
          0.07555742528912643,
          -0.9818219966403574,
          -0.5505233617441598,
          -0.8351133787431793,
          -0.6642405999380542,
          -0.8103687609532269
         ],
         "xaxis": "x",
         "y": [
          2.0605810929696284,
          -3.39416566588979,
          1.6713241317233238,
          0.3119034377215986,
          2.2537160619187198,
          1.246489496230965,
          3.2973094205680114,
          3.1707504562401954
         ],
         "yaxis": "y"
        },
        {
         "alignmentgroup": "True",
         "hovertemplate": "class=8<br>first_compo=%{x}<extra></extra>",
         "legendgroup": "8",
         "marker": {
          "color": "#FF97FF",
          "symbol": "x"
         },
         "name": "8",
         "notched": true,
         "offsetgroup": "8",
         "showlegend": false,
         "type": "box",
         "x": [
          0.8704160943657299,
          1.0121203699080685,
          0.07555742528912643,
          -0.9818219966403574,
          -0.5505233617441598,
          -0.8351133787431793,
          -0.6642405999380542,
          -0.8103687609532269
         ],
         "xaxis": "x3",
         "yaxis": "y3"
        },
        {
         "alignmentgroup": "True",
         "hovertemplate": "class=8<br>second_compo=%{y}<extra></extra>",
         "legendgroup": "8",
         "marker": {
          "color": "#FF97FF",
          "symbol": "x"
         },
         "name": "8",
         "notched": true,
         "offsetgroup": "8",
         "showlegend": false,
         "type": "box",
         "xaxis": "x2",
         "y": [
          2.0605810929696284,
          -3.39416566588979,
          1.6713241317233238,
          0.3119034377215986,
          2.2537160619187198,
          1.246489496230965,
          3.2973094205680114,
          3.1707504562401954
         ],
         "yaxis": "y2"
        },
        {
         "hovertemplate": "class=9<br>first_compo=%{x}<br>second_compo=%{y}<extra></extra>",
         "legendgroup": "9",
         "marker": {
          "color": "#FECB52",
          "symbol": "cross"
         },
         "mode": "markers",
         "name": "9",
         "orientation": "v",
         "showlegend": true,
         "type": "scatter",
         "x": [
          -0.45064929345618315,
          -0.22431694437182761,
          -0.5254521804668256,
          -0.12005660819667205,
          -1.0528034463503422,
          0.8535683746647083,
          -0.20375345260390826,
          -0.6117586340832183
         ],
         "xaxis": "x",
         "y": [
          0.10219378754271659,
          -0.09849781960604144,
          1.1586404722483117,
          -0.7322078678329594,
          0.21263074436560142,
          0.3987737774615412,
          1.3932490717418036,
          0.45068935178219066
         ],
         "yaxis": "y"
        },
        {
         "alignmentgroup": "True",
         "hovertemplate": "class=9<br>first_compo=%{x}<extra></extra>",
         "legendgroup": "9",
         "marker": {
          "color": "#FECB52",
          "symbol": "cross"
         },
         "name": "9",
         "notched": true,
         "offsetgroup": "9",
         "showlegend": false,
         "type": "box",
         "x": [
          -0.45064929345618315,
          -0.22431694437182761,
          -0.5254521804668256,
          -0.12005660819667205,
          -1.0528034463503422,
          0.8535683746647083,
          -0.20375345260390826,
          -0.6117586340832183
         ],
         "xaxis": "x3",
         "yaxis": "y3"
        },
        {
         "alignmentgroup": "True",
         "hovertemplate": "class=9<br>second_compo=%{y}<extra></extra>",
         "legendgroup": "9",
         "marker": {
          "color": "#FECB52",
          "symbol": "cross"
         },
         "name": "9",
         "notched": true,
         "offsetgroup": "9",
         "showlegend": false,
         "type": "box",
         "xaxis": "x2",
         "y": [
          0.10219378754271659,
          -0.09849781960604144,
          1.1586404722483117,
          -0.7322078678329594,
          0.21263074436560142,
          0.3987737774615412,
          1.3932490717418036,
          0.45068935178219066
         ],
         "yaxis": "y2"
        }
       ],
       "layout": {
        "legend": {
         "title": {
          "text": "class"
         },
         "tracegroupgap": 0
        },
        "template": {
         "data": {
          "bar": [
           {
            "error_x": {
             "color": "#2a3f5f"
            },
            "error_y": {
             "color": "#2a3f5f"
            },
            "marker": {
             "line": {
              "color": "#E5ECF6",
              "width": 0.5
             },
             "pattern": {
              "fillmode": "overlay",
              "size": 10,
              "solidity": 0.2
             }
            },
            "type": "bar"
           }
          ],
          "barpolar": [
           {
            "marker": {
             "line": {
              "color": "#E5ECF6",
              "width": 0.5
             },
             "pattern": {
              "fillmode": "overlay",
              "size": 10,
              "solidity": 0.2
             }
            },
            "type": "barpolar"
           }
          ],
          "carpet": [
           {
            "aaxis": {
             "endlinecolor": "#2a3f5f",
             "gridcolor": "white",
             "linecolor": "white",
             "minorgridcolor": "white",
             "startlinecolor": "#2a3f5f"
            },
            "baxis": {
             "endlinecolor": "#2a3f5f",
             "gridcolor": "white",
             "linecolor": "white",
             "minorgridcolor": "white",
             "startlinecolor": "#2a3f5f"
            },
            "type": "carpet"
           }
          ],
          "choropleth": [
           {
            "colorbar": {
             "outlinewidth": 0,
             "ticks": ""
            },
            "type": "choropleth"
           }
          ],
          "contour": [
           {
            "colorbar": {
             "outlinewidth": 0,
             "ticks": ""
            },
            "colorscale": [
             [
              0,
              "#0d0887"
             ],
             [
              0.1111111111111111,
              "#46039f"
             ],
             [
              0.2222222222222222,
              "#7201a8"
             ],
             [
              0.3333333333333333,
              "#9c179e"
             ],
             [
              0.4444444444444444,
              "#bd3786"
             ],
             [
              0.5555555555555556,
              "#d8576b"
             ],
             [
              0.6666666666666666,
              "#ed7953"
             ],
             [
              0.7777777777777778,
              "#fb9f3a"
             ],
             [
              0.8888888888888888,
              "#fdca26"
             ],
             [
              1,
              "#f0f921"
             ]
            ],
            "type": "contour"
           }
          ],
          "contourcarpet": [
           {
            "colorbar": {
             "outlinewidth": 0,
             "ticks": ""
            },
            "type": "contourcarpet"
           }
          ],
          "heatmap": [
           {
            "colorbar": {
             "outlinewidth": 0,
             "ticks": ""
            },
            "colorscale": [
             [
              0,
              "#0d0887"
             ],
             [
              0.1111111111111111,
              "#46039f"
             ],
             [
              0.2222222222222222,
              "#7201a8"
             ],
             [
              0.3333333333333333,
              "#9c179e"
             ],
             [
              0.4444444444444444,
              "#bd3786"
             ],
             [
              0.5555555555555556,
              "#d8576b"
             ],
             [
              0.6666666666666666,
              "#ed7953"
             ],
             [
              0.7777777777777778,
              "#fb9f3a"
             ],
             [
              0.8888888888888888,
              "#fdca26"
             ],
             [
              1,
              "#f0f921"
             ]
            ],
            "type": "heatmap"
           }
          ],
          "heatmapgl": [
           {
            "colorbar": {
             "outlinewidth": 0,
             "ticks": ""
            },
            "colorscale": [
             [
              0,
              "#0d0887"
             ],
             [
              0.1111111111111111,
              "#46039f"
             ],
             [
              0.2222222222222222,
              "#7201a8"
             ],
             [
              0.3333333333333333,
              "#9c179e"
             ],
             [
              0.4444444444444444,
              "#bd3786"
             ],
             [
              0.5555555555555556,
              "#d8576b"
             ],
             [
              0.6666666666666666,
              "#ed7953"
             ],
             [
              0.7777777777777778,
              "#fb9f3a"
             ],
             [
              0.8888888888888888,
              "#fdca26"
             ],
             [
              1,
              "#f0f921"
             ]
            ],
            "type": "heatmapgl"
           }
          ],
          "histogram": [
           {
            "marker": {
             "pattern": {
              "fillmode": "overlay",
              "size": 10,
              "solidity": 0.2
             }
            },
            "type": "histogram"
           }
          ],
          "histogram2d": [
           {
            "colorbar": {
             "outlinewidth": 0,
             "ticks": ""
            },
            "colorscale": [
             [
              0,
              "#0d0887"
             ],
             [
              0.1111111111111111,
              "#46039f"
             ],
             [
              0.2222222222222222,
              "#7201a8"
             ],
             [
              0.3333333333333333,
              "#9c179e"
             ],
             [
              0.4444444444444444,
              "#bd3786"
             ],
             [
              0.5555555555555556,
              "#d8576b"
             ],
             [
              0.6666666666666666,
              "#ed7953"
             ],
             [
              0.7777777777777778,
              "#fb9f3a"
             ],
             [
              0.8888888888888888,
              "#fdca26"
             ],
             [
              1,
              "#f0f921"
             ]
            ],
            "type": "histogram2d"
           }
          ],
          "histogram2dcontour": [
           {
            "colorbar": {
             "outlinewidth": 0,
             "ticks": ""
            },
            "colorscale": [
             [
              0,
              "#0d0887"
             ],
             [
              0.1111111111111111,
              "#46039f"
             ],
             [
              0.2222222222222222,
              "#7201a8"
             ],
             [
              0.3333333333333333,
              "#9c179e"
             ],
             [
              0.4444444444444444,
              "#bd3786"
             ],
             [
              0.5555555555555556,
              "#d8576b"
             ],
             [
              0.6666666666666666,
              "#ed7953"
             ],
             [
              0.7777777777777778,
              "#fb9f3a"
             ],
             [
              0.8888888888888888,
              "#fdca26"
             ],
             [
              1,
              "#f0f921"
             ]
            ],
            "type": "histogram2dcontour"
           }
          ],
          "mesh3d": [
           {
            "colorbar": {
             "outlinewidth": 0,
             "ticks": ""
            },
            "type": "mesh3d"
           }
          ],
          "parcoords": [
           {
            "line": {
             "colorbar": {
              "outlinewidth": 0,
              "ticks": ""
             }
            },
            "type": "parcoords"
           }
          ],
          "pie": [
           {
            "automargin": true,
            "type": "pie"
           }
          ],
          "scatter": [
           {
            "marker": {
             "colorbar": {
              "outlinewidth": 0,
              "ticks": ""
             }
            },
            "type": "scatter"
           }
          ],
          "scatter3d": [
           {
            "line": {
             "colorbar": {
              "outlinewidth": 0,
              "ticks": ""
             }
            },
            "marker": {
             "colorbar": {
              "outlinewidth": 0,
              "ticks": ""
             }
            },
            "type": "scatter3d"
           }
          ],
          "scattercarpet": [
           {
            "marker": {
             "colorbar": {
              "outlinewidth": 0,
              "ticks": ""
             }
            },
            "type": "scattercarpet"
           }
          ],
          "scattergeo": [
           {
            "marker": {
             "colorbar": {
              "outlinewidth": 0,
              "ticks": ""
             }
            },
            "type": "scattergeo"
           }
          ],
          "scattergl": [
           {
            "marker": {
             "colorbar": {
              "outlinewidth": 0,
              "ticks": ""
             }
            },
            "type": "scattergl"
           }
          ],
          "scattermapbox": [
           {
            "marker": {
             "colorbar": {
              "outlinewidth": 0,
              "ticks": ""
             }
            },
            "type": "scattermapbox"
           }
          ],
          "scatterpolar": [
           {
            "marker": {
             "colorbar": {
              "outlinewidth": 0,
              "ticks": ""
             }
            },
            "type": "scatterpolar"
           }
          ],
          "scatterpolargl": [
           {
            "marker": {
             "colorbar": {
              "outlinewidth": 0,
              "ticks": ""
             }
            },
            "type": "scatterpolargl"
           }
          ],
          "scatterternary": [
           {
            "marker": {
             "colorbar": {
              "outlinewidth": 0,
              "ticks": ""
             }
            },
            "type": "scatterternary"
           }
          ],
          "surface": [
           {
            "colorbar": {
             "outlinewidth": 0,
             "ticks": ""
            },
            "colorscale": [
             [
              0,
              "#0d0887"
             ],
             [
              0.1111111111111111,
              "#46039f"
             ],
             [
              0.2222222222222222,
              "#7201a8"
             ],
             [
              0.3333333333333333,
              "#9c179e"
             ],
             [
              0.4444444444444444,
              "#bd3786"
             ],
             [
              0.5555555555555556,
              "#d8576b"
             ],
             [
              0.6666666666666666,
              "#ed7953"
             ],
             [
              0.7777777777777778,
              "#fb9f3a"
             ],
             [
              0.8888888888888888,
              "#fdca26"
             ],
             [
              1,
              "#f0f921"
             ]
            ],
            "type": "surface"
           }
          ],
          "table": [
           {
            "cells": {
             "fill": {
              "color": "#EBF0F8"
             },
             "line": {
              "color": "white"
             }
            },
            "header": {
             "fill": {
              "color": "#C8D4E3"
             },
             "line": {
              "color": "white"
             }
            },
            "type": "table"
           }
          ]
         },
         "layout": {
          "annotationdefaults": {
           "arrowcolor": "#2a3f5f",
           "arrowhead": 0,
           "arrowwidth": 1
          },
          "autotypenumbers": "strict",
          "coloraxis": {
           "colorbar": {
            "outlinewidth": 0,
            "ticks": ""
           }
          },
          "colorscale": {
           "diverging": [
            [
             0,
             "#8e0152"
            ],
            [
             0.1,
             "#c51b7d"
            ],
            [
             0.2,
             "#de77ae"
            ],
            [
             0.3,
             "#f1b6da"
            ],
            [
             0.4,
             "#fde0ef"
            ],
            [
             0.5,
             "#f7f7f7"
            ],
            [
             0.6,
             "#e6f5d0"
            ],
            [
             0.7,
             "#b8e186"
            ],
            [
             0.8,
             "#7fbc41"
            ],
            [
             0.9,
             "#4d9221"
            ],
            [
             1,
             "#276419"
            ]
           ],
           "sequential": [
            [
             0,
             "#0d0887"
            ],
            [
             0.1111111111111111,
             "#46039f"
            ],
            [
             0.2222222222222222,
             "#7201a8"
            ],
            [
             0.3333333333333333,
             "#9c179e"
            ],
            [
             0.4444444444444444,
             "#bd3786"
            ],
            [
             0.5555555555555556,
             "#d8576b"
            ],
            [
             0.6666666666666666,
             "#ed7953"
            ],
            [
             0.7777777777777778,
             "#fb9f3a"
            ],
            [
             0.8888888888888888,
             "#fdca26"
            ],
            [
             1,
             "#f0f921"
            ]
           ],
           "sequentialminus": [
            [
             0,
             "#0d0887"
            ],
            [
             0.1111111111111111,
             "#46039f"
            ],
            [
             0.2222222222222222,
             "#7201a8"
            ],
            [
             0.3333333333333333,
             "#9c179e"
            ],
            [
             0.4444444444444444,
             "#bd3786"
            ],
            [
             0.5555555555555556,
             "#d8576b"
            ],
            [
             0.6666666666666666,
             "#ed7953"
            ],
            [
             0.7777777777777778,
             "#fb9f3a"
            ],
            [
             0.8888888888888888,
             "#fdca26"
            ],
            [
             1,
             "#f0f921"
            ]
           ]
          },
          "colorway": [
           "#636efa",
           "#EF553B",
           "#00cc96",
           "#ab63fa",
           "#FFA15A",
           "#19d3f3",
           "#FF6692",
           "#B6E880",
           "#FF97FF",
           "#FECB52"
          ],
          "font": {
           "color": "#2a3f5f"
          },
          "geo": {
           "bgcolor": "white",
           "lakecolor": "white",
           "landcolor": "#E5ECF6",
           "showlakes": true,
           "showland": true,
           "subunitcolor": "white"
          },
          "hoverlabel": {
           "align": "left"
          },
          "hovermode": "closest",
          "mapbox": {
           "style": "light"
          },
          "paper_bgcolor": "white",
          "plot_bgcolor": "#E5ECF6",
          "polar": {
           "angularaxis": {
            "gridcolor": "white",
            "linecolor": "white",
            "ticks": ""
           },
           "bgcolor": "#E5ECF6",
           "radialaxis": {
            "gridcolor": "white",
            "linecolor": "white",
            "ticks": ""
           }
          },
          "scene": {
           "xaxis": {
            "backgroundcolor": "#E5ECF6",
            "gridcolor": "white",
            "gridwidth": 2,
            "linecolor": "white",
            "showbackground": true,
            "ticks": "",
            "zerolinecolor": "white"
           },
           "yaxis": {
            "backgroundcolor": "#E5ECF6",
            "gridcolor": "white",
            "gridwidth": 2,
            "linecolor": "white",
            "showbackground": true,
            "ticks": "",
            "zerolinecolor": "white"
           },
           "zaxis": {
            "backgroundcolor": "#E5ECF6",
            "gridcolor": "white",
            "gridwidth": 2,
            "linecolor": "white",
            "showbackground": true,
            "ticks": "",
            "zerolinecolor": "white"
           }
          },
          "shapedefaults": {
           "line": {
            "color": "#2a3f5f"
           }
          },
          "ternary": {
           "aaxis": {
            "gridcolor": "white",
            "linecolor": "white",
            "ticks": ""
           },
           "baxis": {
            "gridcolor": "white",
            "linecolor": "white",
            "ticks": ""
           },
           "bgcolor": "#E5ECF6",
           "caxis": {
            "gridcolor": "white",
            "linecolor": "white",
            "ticks": ""
           }
          },
          "title": {
           "x": 0.05
          },
          "xaxis": {
           "automargin": true,
           "gridcolor": "white",
           "linecolor": "white",
           "ticks": "",
           "title": {
            "standoff": 15
           },
           "zerolinecolor": "white",
           "zerolinewidth": 2
          },
          "yaxis": {
           "automargin": true,
           "gridcolor": "white",
           "linecolor": "white",
           "ticks": "",
           "title": {
            "standoff": 15
           },
           "zerolinecolor": "white",
           "zerolinewidth": 2
          }
         }
        },
        "title": {
         "text": "2 first components of FDA"
        },
        "xaxis": {
         "anchor": "y",
         "domain": [
          0,
          0.7363
         ],
         "title": {
          "text": "first_compo"
         }
        },
        "xaxis2": {
         "anchor": "y2",
         "domain": [
          0.7413,
          1
         ],
         "matches": "x2",
         "showgrid": false,
         "showline": false,
         "showticklabels": false,
         "ticks": ""
        },
        "xaxis3": {
         "anchor": "y3",
         "domain": [
          0,
          0.7363
         ],
         "matches": "x",
         "showgrid": true,
         "showticklabels": false
        },
        "xaxis4": {
         "anchor": "y4",
         "domain": [
          0.7413,
          1
         ],
         "matches": "x2",
         "showgrid": false,
         "showline": false,
         "showticklabels": false,
         "ticks": ""
        },
        "yaxis": {
         "anchor": "x",
         "domain": [
          0,
          0.7326
         ],
         "title": {
          "text": "second_compo"
         }
        },
        "yaxis2": {
         "anchor": "x2",
         "domain": [
          0,
          0.7326
         ],
         "matches": "y",
         "showgrid": true,
         "showticklabels": false
        },
        "yaxis3": {
         "anchor": "x3",
         "domain": [
          0.7426,
          1
         ],
         "matches": "y3",
         "showgrid": false,
         "showline": false,
         "showticklabels": false,
         "ticks": ""
        },
        "yaxis4": {
         "anchor": "x4",
         "domain": [
          0.7426,
          1
         ],
         "matches": "y3",
         "showgrid": true,
         "showline": false,
         "showticklabels": false,
         "ticks": ""
        }
       }
      }
     },
     "metadata": {},
     "output_type": "display_data"
    }
   ],
   "source": [
    "from sklearn.discriminant_analysis import LinearDiscriminantAnalysis as LDA\n",
    "\n",
    "clf = LDA(n_components=3)\n",
    "proj = clf.fit_transform(X_centre,y)\n",
    "\n",
    "df = pd.DataFrame({\n",
    "'class':y.astype(str), 'first_compo':proj[:,0].T, 'second_compo':proj[:,1].T, 'third_compo':proj[:,2].T\n",
    "})\n",
    "\n",
    "fig = px.scatter(df, x='first_compo', y='second_compo',color=\"class\", symbol='class',\n",
    "                 marginal_x=\"box\", marginal_y=\"box\",\n",
    "                    title=\"2 first components of FDA\")\n",
    "fig.show()\n"
   ]
  },
  {
   "cell_type": "code",
   "execution_count": 10,
   "metadata": {},
   "outputs": [
    {
     "data": {
      "application/vnd.plotly.v1+json": {
       "config": {
        "plotlyServerURL": "https://plot.ly"
       },
       "data": [
        {
         "hovertemplate": "class=0<br>first_compo=%{x}<br>second_compo=%{y}<br>third_compo=%{z}<extra></extra>",
         "legendgroup": "0",
         "marker": {
          "color": "#636efa",
          "symbol": "circle"
         },
         "mode": "markers",
         "name": "0",
         "scene": "scene",
         "showlegend": true,
         "type": "scatter3d",
         "x": [
          -2.0889268973280237,
          -2.463231225209319,
          -2.4380994905992295,
          1.8176648271872113,
          -4.486491490967254,
          -2.5450100341158826,
          1.2410248799189652,
          -3.4542448104372188
         ],
         "y": [
          0.09196690357352301,
          -1.1356608097413499,
          -0.6540394210207748,
          0.38191363750265755,
          -0.5455547849313189,
          -0.2025283824103805,
          0.9973122285524105,
          -1.141521900832728
         ],
         "z": [
          1.0398267797376468,
          -0.003036645476639864,
          -0.11582634411581749,
          -0.5791805000093632,
          0.5643347859731854,
          -0.7579952002470112,
          1.171923466865593,
          0.4600115780580242
         ]
        },
        {
         "hovertemplate": "class=1<br>first_compo=%{x}<br>second_compo=%{y}<br>third_compo=%{z}<extra></extra>",
         "legendgroup": "1",
         "marker": {
          "color": "#EF553B",
          "symbol": "diamond"
         },
         "mode": "markers",
         "name": "1",
         "scene": "scene",
         "showlegend": true,
         "type": "scatter3d",
         "x": [
          0.7270296833751931,
          0.4071938310905802,
          1.5918041407481243,
          0.267662035137679,
          1.3922808235208028,
          0.762754488396516,
          -1.5015052688017654,
          1.5557535369459485
         ],
         "y": [
          0.8960663100491353,
          0.018800162946117048,
          0.7446750284016932,
          0.529652704967694,
          0.2747272719578671,
          0.9056753857439088,
          0.028072484266021946,
          1.791223597435701
         ],
         "z": [
          -1.703830974247448,
          -0.41641605605979615,
          -3.492507496095006,
          0.5066966321175068,
          -2.2706898304030187,
          0.7483306154065856,
          1.2971179893279103,
          -3.621449621177213
         ]
        },
        {
         "hovertemplate": "class=2<br>first_compo=%{x}<br>second_compo=%{y}<br>third_compo=%{z}<extra></extra>",
         "legendgroup": "2",
         "marker": {
          "color": "#00cc96",
          "symbol": "square"
         },
         "mode": "markers",
         "name": "2",
         "scene": "scene",
         "showlegend": true,
         "type": "scatter3d",
         "x": [
          0.02016259240240699,
          -0.6434805894327997,
          -0.23771824386050175,
          0.706214691167807,
          0.7875932504826475,
          -0.3816807100817997,
          0.250012423196252,
          -0.25079408557179556
         ],
         "y": [
          -0.47259290689200073,
          -0.14071766396242635,
          0.2427276293185396,
          0.7558282465675281,
          0.11435373428860832,
          0.701506060866184,
          0.5680533115300501,
          0.26914464922069015
         ],
         "z": [
          -0.5569498308948543,
          0.2548795286094587,
          -0.28361448716158105,
          -1.2067380281200661,
          0.23642178396857536,
          0.9607126799331687,
          -0.301346834579548,
          0.4236335933056782
         ]
        },
        {
         "hovertemplate": "class=3<br>first_compo=%{x}<br>second_compo=%{y}<br>third_compo=%{z}<extra></extra>",
         "legendgroup": "3",
         "marker": {
          "color": "#ab63fa",
          "symbol": "x"
         },
         "mode": "markers",
         "name": "3",
         "scene": "scene",
         "showlegend": true,
         "type": "scatter3d",
         "x": [
          0.3493385264351848,
          0.37156133609092107,
          0.04084207992511815,
          -1.0950930815355857,
          1.021554472971784,
          0.4278117077030972,
          0.09938736000187708,
          0.8265805216983375
         ],
         "y": [
          -0.58781699208919,
          -0.7522081091725712,
          -0.0865638850363301,
          0.9743315122766241,
          -0.5185967714164369,
          -0.16394745853014364,
          0.7635430413685657,
          -1.082278414319243
         ],
         "z": [
          1.1335908903490135,
          0.2933944331614195,
          0.6871010162891931,
          0.057256703558163216,
          0.1247119808529503,
          1.9957989502580726,
          -0.7123776167288653,
          0.8910837863923502
         ]
        },
        {
         "hovertemplate": "class=4<br>first_compo=%{x}<br>second_compo=%{y}<br>third_compo=%{z}<extra></extra>",
         "legendgroup": "4",
         "marker": {
          "color": "#FFA15A",
          "symbol": "cross"
         },
         "mode": "markers",
         "name": "4",
         "scene": "scene",
         "showlegend": true,
         "type": "scatter3d",
         "x": [
          1.143316563934077,
          -0.14093241147294133,
          -0.9937911063241318,
          0.19663817786403837,
          -0.20207526597749123,
          -0.06060251434633281,
          0.486383788432647,
          -0.09932584812586875
         ],
         "y": [
          -0.6705014030789596,
          -1.7034350063382147,
          -0.33975705632914055,
          0.8423982306453801,
          -0.9994775185202257,
          -0.7201412717190245,
          0.6590289230439131,
          -1.6620461634051131
         ],
         "z": [
          -0.23069177240885513,
          -1.0338750965094339,
          -0.16246998806126708,
          0.21886136274789184,
          0.9906372751525947,
          -0.07179024290438332,
          1.0978657263221392,
          0.6317327462708023
         ]
        },
        {
         "hovertemplate": "class=5<br>first_compo=%{x}<br>second_compo=%{y}<br>third_compo=%{z}<extra></extra>",
         "legendgroup": "5",
         "marker": {
          "color": "#19d3f3",
          "symbol": "circle"
         },
         "mode": "markers",
         "name": "5",
         "scene": "scene",
         "showlegend": true,
         "type": "scatter3d",
         "x": [
          2.126660590796584,
          0.38335945812709965,
          1.1422293479937153,
          2.1852571404466223,
          1.2250794967713587,
          0.0981573613231566,
          -0.9890757776431991,
          1.9720210529691535
         ],
         "y": [
          -0.8024604209812936,
          1.0126810450565678,
          -0.48257349855050125,
          -0.6752370459955004,
          -0.2740602118465851,
          0.7131874233886806,
          -0.9302733732147044,
          -1.1014690606601047
         ],
         "z": [
          1.7216703316834232,
          -0.14311213987942134,
          0.47463229504805327,
          1.7704063762231754,
          1.1192479383897256,
          0.7566990936875017,
          -0.7883727759705095,
          2.784721606668398
         ]
        },
        {
         "hovertemplate": "class=6<br>first_compo=%{x}<br>second_compo=%{y}<br>third_compo=%{z}<extra></extra>",
         "legendgroup": "6",
         "marker": {
          "color": "#FF6692",
          "symbol": "diamond"
         },
         "mode": "markers",
         "name": "6",
         "scene": "scene",
         "showlegend": true,
         "type": "scatter3d",
         "x": [
          0.4767503605309319,
          -0.5799191591669977,
          -0.25068611760990844,
          0.22353770845470522,
          0.2623904518379698,
          1.7237613986868858,
          -0.28333180231961164,
          0.6687794223889104
         ],
         "y": [
          -0.5133676619707433,
          0.035498223927414946,
          -0.011229550923165257,
          0.41940127514987013,
          -1.7251478318566764,
          0.024258981881132673,
          -0.020555593889797233,
          0.03149387520710033
         ],
         "z": [
          0.6401712349392067,
          -0.41459724757106897,
          0.08799453354696893,
          0.24789832641408308,
          0.2743832966683155,
          0.1117072096751301,
          0.2792637746372194,
          0.8186818457693208
         ]
        },
        {
         "hovertemplate": "class=7<br>first_compo=%{x}<br>second_compo=%{y}<br>third_compo=%{z}<extra></extra>",
         "legendgroup": "7",
         "marker": {
          "color": "#B6E880",
          "symbol": "square"
         },
         "mode": "markers",
         "name": "7",
         "scene": "scene",
         "showlegend": true,
         "type": "scatter3d",
         "x": [
          -0.01295481488236264,
          0.9094317788149862,
          0.07731523472967747,
          -0.5929909031324738,
          -0.176107464492416,
          0.30642056866693484,
          0.8253145311670066,
          -0.9097661355776806
         ],
         "y": [
          -2.3254174389570488,
          -1.523922094907094,
          -1.6381566172546969,
          1.0338335724246943,
          -2.187826388308793,
          0.39940486788114105,
          -1.1147936901596465,
          -0.8182638694033051
         ],
         "z": [
          -3.108028846364003,
          -1.6378943211800998,
          -1.4368998054926492,
          0.12353976007083733,
          -2.7493357583499485,
          0.9621060584701477,
          0.2470061015734411,
          -1.1040732513544416
         ]
        },
        {
         "hovertemplate": "class=8<br>first_compo=%{x}<br>second_compo=%{y}<br>third_compo=%{z}<extra></extra>",
         "legendgroup": "8",
         "marker": {
          "color": "#FF97FF",
          "symbol": "x"
         },
         "mode": "markers",
         "name": "8",
         "scene": "scene",
         "showlegend": true,
         "type": "scatter3d",
         "x": [
          0.8704160943657299,
          1.0121203699080685,
          0.07555742528912643,
          -0.9818219966403574,
          -0.5505233617441598,
          -0.8351133787431793,
          -0.6642405999380542,
          -0.8103687609532269
         ],
         "y": [
          2.0605810929696284,
          -3.39416566588979,
          1.6713241317233238,
          0.3119034377215986,
          2.2537160619187198,
          1.246489496230965,
          3.2973094205680114,
          3.1707504562401954
         ],
         "z": [
          0.8590605703312912,
          0.16335042663375446,
          1.033787235624144,
          1.0418461168641804,
          -0.3753179416316505,
          0.1828341466625113,
          -0.26649239634909344,
          -0.7705273538703373
         ]
        },
        {
         "hovertemplate": "class=9<br>first_compo=%{x}<br>second_compo=%{y}<br>third_compo=%{z}<extra></extra>",
         "legendgroup": "9",
         "marker": {
          "color": "#FECB52",
          "symbol": "cross"
         },
         "mode": "markers",
         "name": "9",
         "scene": "scene",
         "showlegend": true,
         "type": "scatter3d",
         "x": [
          -0.45064929345618315,
          -0.22431694437182761,
          -0.5254521804668256,
          -0.12005660819667205,
          -1.0528034463503422,
          0.8535683746647083,
          -0.20375345260390826,
          -0.6117586340832183
         ],
         "y": [
          0.10219378754271659,
          -0.09849781960604144,
          1.1586404722483117,
          -0.7322078678329594,
          0.21263074436560142,
          0.3987737774615412,
          1.3932490717418036,
          0.45068935178219066
         ],
         "z": [
          0.23114184039339056,
          -0.21334381115564438,
          -0.13752380755461566,
          -0.07375122428230099,
          -0.3334441618304793,
          0.5180911219402655,
          -0.5713033311418775,
          -0.5913608073941029
         ]
        }
       ],
       "layout": {
        "legend": {
         "title": {
          "text": "class"
         },
         "tracegroupgap": 0
        },
        "scene": {
         "domain": {
          "x": [
           0,
           1
          ],
          "y": [
           0,
           1
          ]
         },
         "xaxis": {
          "title": {
           "text": "first_compo"
          }
         },
         "yaxis": {
          "title": {
           "text": "second_compo"
          }
         },
         "zaxis": {
          "title": {
           "text": "third_compo"
          }
         }
        },
        "template": {
         "data": {
          "bar": [
           {
            "error_x": {
             "color": "#2a3f5f"
            },
            "error_y": {
             "color": "#2a3f5f"
            },
            "marker": {
             "line": {
              "color": "#E5ECF6",
              "width": 0.5
             },
             "pattern": {
              "fillmode": "overlay",
              "size": 10,
              "solidity": 0.2
             }
            },
            "type": "bar"
           }
          ],
          "barpolar": [
           {
            "marker": {
             "line": {
              "color": "#E5ECF6",
              "width": 0.5
             },
             "pattern": {
              "fillmode": "overlay",
              "size": 10,
              "solidity": 0.2
             }
            },
            "type": "barpolar"
           }
          ],
          "carpet": [
           {
            "aaxis": {
             "endlinecolor": "#2a3f5f",
             "gridcolor": "white",
             "linecolor": "white",
             "minorgridcolor": "white",
             "startlinecolor": "#2a3f5f"
            },
            "baxis": {
             "endlinecolor": "#2a3f5f",
             "gridcolor": "white",
             "linecolor": "white",
             "minorgridcolor": "white",
             "startlinecolor": "#2a3f5f"
            },
            "type": "carpet"
           }
          ],
          "choropleth": [
           {
            "colorbar": {
             "outlinewidth": 0,
             "ticks": ""
            },
            "type": "choropleth"
           }
          ],
          "contour": [
           {
            "colorbar": {
             "outlinewidth": 0,
             "ticks": ""
            },
            "colorscale": [
             [
              0,
              "#0d0887"
             ],
             [
              0.1111111111111111,
              "#46039f"
             ],
             [
              0.2222222222222222,
              "#7201a8"
             ],
             [
              0.3333333333333333,
              "#9c179e"
             ],
             [
              0.4444444444444444,
              "#bd3786"
             ],
             [
              0.5555555555555556,
              "#d8576b"
             ],
             [
              0.6666666666666666,
              "#ed7953"
             ],
             [
              0.7777777777777778,
              "#fb9f3a"
             ],
             [
              0.8888888888888888,
              "#fdca26"
             ],
             [
              1,
              "#f0f921"
             ]
            ],
            "type": "contour"
           }
          ],
          "contourcarpet": [
           {
            "colorbar": {
             "outlinewidth": 0,
             "ticks": ""
            },
            "type": "contourcarpet"
           }
          ],
          "heatmap": [
           {
            "colorbar": {
             "outlinewidth": 0,
             "ticks": ""
            },
            "colorscale": [
             [
              0,
              "#0d0887"
             ],
             [
              0.1111111111111111,
              "#46039f"
             ],
             [
              0.2222222222222222,
              "#7201a8"
             ],
             [
              0.3333333333333333,
              "#9c179e"
             ],
             [
              0.4444444444444444,
              "#bd3786"
             ],
             [
              0.5555555555555556,
              "#d8576b"
             ],
             [
              0.6666666666666666,
              "#ed7953"
             ],
             [
              0.7777777777777778,
              "#fb9f3a"
             ],
             [
              0.8888888888888888,
              "#fdca26"
             ],
             [
              1,
              "#f0f921"
             ]
            ],
            "type": "heatmap"
           }
          ],
          "heatmapgl": [
           {
            "colorbar": {
             "outlinewidth": 0,
             "ticks": ""
            },
            "colorscale": [
             [
              0,
              "#0d0887"
             ],
             [
              0.1111111111111111,
              "#46039f"
             ],
             [
              0.2222222222222222,
              "#7201a8"
             ],
             [
              0.3333333333333333,
              "#9c179e"
             ],
             [
              0.4444444444444444,
              "#bd3786"
             ],
             [
              0.5555555555555556,
              "#d8576b"
             ],
             [
              0.6666666666666666,
              "#ed7953"
             ],
             [
              0.7777777777777778,
              "#fb9f3a"
             ],
             [
              0.8888888888888888,
              "#fdca26"
             ],
             [
              1,
              "#f0f921"
             ]
            ],
            "type": "heatmapgl"
           }
          ],
          "histogram": [
           {
            "marker": {
             "pattern": {
              "fillmode": "overlay",
              "size": 10,
              "solidity": 0.2
             }
            },
            "type": "histogram"
           }
          ],
          "histogram2d": [
           {
            "colorbar": {
             "outlinewidth": 0,
             "ticks": ""
            },
            "colorscale": [
             [
              0,
              "#0d0887"
             ],
             [
              0.1111111111111111,
              "#46039f"
             ],
             [
              0.2222222222222222,
              "#7201a8"
             ],
             [
              0.3333333333333333,
              "#9c179e"
             ],
             [
              0.4444444444444444,
              "#bd3786"
             ],
             [
              0.5555555555555556,
              "#d8576b"
             ],
             [
              0.6666666666666666,
              "#ed7953"
             ],
             [
              0.7777777777777778,
              "#fb9f3a"
             ],
             [
              0.8888888888888888,
              "#fdca26"
             ],
             [
              1,
              "#f0f921"
             ]
            ],
            "type": "histogram2d"
           }
          ],
          "histogram2dcontour": [
           {
            "colorbar": {
             "outlinewidth": 0,
             "ticks": ""
            },
            "colorscale": [
             [
              0,
              "#0d0887"
             ],
             [
              0.1111111111111111,
              "#46039f"
             ],
             [
              0.2222222222222222,
              "#7201a8"
             ],
             [
              0.3333333333333333,
              "#9c179e"
             ],
             [
              0.4444444444444444,
              "#bd3786"
             ],
             [
              0.5555555555555556,
              "#d8576b"
             ],
             [
              0.6666666666666666,
              "#ed7953"
             ],
             [
              0.7777777777777778,
              "#fb9f3a"
             ],
             [
              0.8888888888888888,
              "#fdca26"
             ],
             [
              1,
              "#f0f921"
             ]
            ],
            "type": "histogram2dcontour"
           }
          ],
          "mesh3d": [
           {
            "colorbar": {
             "outlinewidth": 0,
             "ticks": ""
            },
            "type": "mesh3d"
           }
          ],
          "parcoords": [
           {
            "line": {
             "colorbar": {
              "outlinewidth": 0,
              "ticks": ""
             }
            },
            "type": "parcoords"
           }
          ],
          "pie": [
           {
            "automargin": true,
            "type": "pie"
           }
          ],
          "scatter": [
           {
            "marker": {
             "colorbar": {
              "outlinewidth": 0,
              "ticks": ""
             }
            },
            "type": "scatter"
           }
          ],
          "scatter3d": [
           {
            "line": {
             "colorbar": {
              "outlinewidth": 0,
              "ticks": ""
             }
            },
            "marker": {
             "colorbar": {
              "outlinewidth": 0,
              "ticks": ""
             }
            },
            "type": "scatter3d"
           }
          ],
          "scattercarpet": [
           {
            "marker": {
             "colorbar": {
              "outlinewidth": 0,
              "ticks": ""
             }
            },
            "type": "scattercarpet"
           }
          ],
          "scattergeo": [
           {
            "marker": {
             "colorbar": {
              "outlinewidth": 0,
              "ticks": ""
             }
            },
            "type": "scattergeo"
           }
          ],
          "scattergl": [
           {
            "marker": {
             "colorbar": {
              "outlinewidth": 0,
              "ticks": ""
             }
            },
            "type": "scattergl"
           }
          ],
          "scattermapbox": [
           {
            "marker": {
             "colorbar": {
              "outlinewidth": 0,
              "ticks": ""
             }
            },
            "type": "scattermapbox"
           }
          ],
          "scatterpolar": [
           {
            "marker": {
             "colorbar": {
              "outlinewidth": 0,
              "ticks": ""
             }
            },
            "type": "scatterpolar"
           }
          ],
          "scatterpolargl": [
           {
            "marker": {
             "colorbar": {
              "outlinewidth": 0,
              "ticks": ""
             }
            },
            "type": "scatterpolargl"
           }
          ],
          "scatterternary": [
           {
            "marker": {
             "colorbar": {
              "outlinewidth": 0,
              "ticks": ""
             }
            },
            "type": "scatterternary"
           }
          ],
          "surface": [
           {
            "colorbar": {
             "outlinewidth": 0,
             "ticks": ""
            },
            "colorscale": [
             [
              0,
              "#0d0887"
             ],
             [
              0.1111111111111111,
              "#46039f"
             ],
             [
              0.2222222222222222,
              "#7201a8"
             ],
             [
              0.3333333333333333,
              "#9c179e"
             ],
             [
              0.4444444444444444,
              "#bd3786"
             ],
             [
              0.5555555555555556,
              "#d8576b"
             ],
             [
              0.6666666666666666,
              "#ed7953"
             ],
             [
              0.7777777777777778,
              "#fb9f3a"
             ],
             [
              0.8888888888888888,
              "#fdca26"
             ],
             [
              1,
              "#f0f921"
             ]
            ],
            "type": "surface"
           }
          ],
          "table": [
           {
            "cells": {
             "fill": {
              "color": "#EBF0F8"
             },
             "line": {
              "color": "white"
             }
            },
            "header": {
             "fill": {
              "color": "#C8D4E3"
             },
             "line": {
              "color": "white"
             }
            },
            "type": "table"
           }
          ]
         },
         "layout": {
          "annotationdefaults": {
           "arrowcolor": "#2a3f5f",
           "arrowhead": 0,
           "arrowwidth": 1
          },
          "autotypenumbers": "strict",
          "coloraxis": {
           "colorbar": {
            "outlinewidth": 0,
            "ticks": ""
           }
          },
          "colorscale": {
           "diverging": [
            [
             0,
             "#8e0152"
            ],
            [
             0.1,
             "#c51b7d"
            ],
            [
             0.2,
             "#de77ae"
            ],
            [
             0.3,
             "#f1b6da"
            ],
            [
             0.4,
             "#fde0ef"
            ],
            [
             0.5,
             "#f7f7f7"
            ],
            [
             0.6,
             "#e6f5d0"
            ],
            [
             0.7,
             "#b8e186"
            ],
            [
             0.8,
             "#7fbc41"
            ],
            [
             0.9,
             "#4d9221"
            ],
            [
             1,
             "#276419"
            ]
           ],
           "sequential": [
            [
             0,
             "#0d0887"
            ],
            [
             0.1111111111111111,
             "#46039f"
            ],
            [
             0.2222222222222222,
             "#7201a8"
            ],
            [
             0.3333333333333333,
             "#9c179e"
            ],
            [
             0.4444444444444444,
             "#bd3786"
            ],
            [
             0.5555555555555556,
             "#d8576b"
            ],
            [
             0.6666666666666666,
             "#ed7953"
            ],
            [
             0.7777777777777778,
             "#fb9f3a"
            ],
            [
             0.8888888888888888,
             "#fdca26"
            ],
            [
             1,
             "#f0f921"
            ]
           ],
           "sequentialminus": [
            [
             0,
             "#0d0887"
            ],
            [
             0.1111111111111111,
             "#46039f"
            ],
            [
             0.2222222222222222,
             "#7201a8"
            ],
            [
             0.3333333333333333,
             "#9c179e"
            ],
            [
             0.4444444444444444,
             "#bd3786"
            ],
            [
             0.5555555555555556,
             "#d8576b"
            ],
            [
             0.6666666666666666,
             "#ed7953"
            ],
            [
             0.7777777777777778,
             "#fb9f3a"
            ],
            [
             0.8888888888888888,
             "#fdca26"
            ],
            [
             1,
             "#f0f921"
            ]
           ]
          },
          "colorway": [
           "#636efa",
           "#EF553B",
           "#00cc96",
           "#ab63fa",
           "#FFA15A",
           "#19d3f3",
           "#FF6692",
           "#B6E880",
           "#FF97FF",
           "#FECB52"
          ],
          "font": {
           "color": "#2a3f5f"
          },
          "geo": {
           "bgcolor": "white",
           "lakecolor": "white",
           "landcolor": "#E5ECF6",
           "showlakes": true,
           "showland": true,
           "subunitcolor": "white"
          },
          "hoverlabel": {
           "align": "left"
          },
          "hovermode": "closest",
          "mapbox": {
           "style": "light"
          },
          "paper_bgcolor": "white",
          "plot_bgcolor": "#E5ECF6",
          "polar": {
           "angularaxis": {
            "gridcolor": "white",
            "linecolor": "white",
            "ticks": ""
           },
           "bgcolor": "#E5ECF6",
           "radialaxis": {
            "gridcolor": "white",
            "linecolor": "white",
            "ticks": ""
           }
          },
          "scene": {
           "xaxis": {
            "backgroundcolor": "#E5ECF6",
            "gridcolor": "white",
            "gridwidth": 2,
            "linecolor": "white",
            "showbackground": true,
            "ticks": "",
            "zerolinecolor": "white"
           },
           "yaxis": {
            "backgroundcolor": "#E5ECF6",
            "gridcolor": "white",
            "gridwidth": 2,
            "linecolor": "white",
            "showbackground": true,
            "ticks": "",
            "zerolinecolor": "white"
           },
           "zaxis": {
            "backgroundcolor": "#E5ECF6",
            "gridcolor": "white",
            "gridwidth": 2,
            "linecolor": "white",
            "showbackground": true,
            "ticks": "",
            "zerolinecolor": "white"
           }
          },
          "shapedefaults": {
           "line": {
            "color": "#2a3f5f"
           }
          },
          "ternary": {
           "aaxis": {
            "gridcolor": "white",
            "linecolor": "white",
            "ticks": ""
           },
           "baxis": {
            "gridcolor": "white",
            "linecolor": "white",
            "ticks": ""
           },
           "bgcolor": "#E5ECF6",
           "caxis": {
            "gridcolor": "white",
            "linecolor": "white",
            "ticks": ""
           }
          },
          "title": {
           "x": 0.05
          },
          "xaxis": {
           "automargin": true,
           "gridcolor": "white",
           "linecolor": "white",
           "ticks": "",
           "title": {
            "standoff": 15
           },
           "zerolinecolor": "white",
           "zerolinewidth": 2
          },
          "yaxis": {
           "automargin": true,
           "gridcolor": "white",
           "linecolor": "white",
           "ticks": "",
           "title": {
            "standoff": 15
           },
           "zerolinecolor": "white",
           "zerolinewidth": 2
          }
         }
        },
        "title": {
         "text": "3 first components of FDA"
        }
       }
      }
     },
     "metadata": {},
     "output_type": "display_data"
    }
   ],
   "source": [
    "fig = px.scatter_3d(df, x='first_compo', y='second_compo',z='third_compo',color='class',symbol='class',\n",
    "                    title=\"3 first components of FDA\")\n",
    "fig.show()"
   ]
  },
  {
   "cell_type": "code",
   "execution_count": null,
   "metadata": {},
   "outputs": [],
   "source": []
  }
 ],
 "metadata": {
  "interpreter": {
   "hash": "75f9f9ee5ef6a2d86672b423834af4c94148b95a054c4c028ec9f6b37b0b6be5"
  },
  "kernelspec": {
   "display_name": "Python 3.8.12 ('projet_eeg')",
   "language": "python",
   "name": "python3"
  },
  "language_info": {
   "codemirror_mode": {
    "name": "ipython",
    "version": 3
   },
   "file_extension": ".py",
   "mimetype": "text/x-python",
   "name": "python",
   "nbconvert_exporter": "python",
   "pygments_lexer": "ipython3",
   "version": "3.8.12"
  },
  "orig_nbformat": 4
 },
 "nbformat": 4,
 "nbformat_minor": 2
}
