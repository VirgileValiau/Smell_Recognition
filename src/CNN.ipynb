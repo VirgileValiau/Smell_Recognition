{
 "cells": [
  {
   "cell_type": "code",
   "execution_count": 2,
   "metadata": {},
   "outputs": [],
   "source": [
    "%load_ext autoreload\n",
    "%autoreload 2\n",
    "\n",
    "from Dataset import *\n",
    "import glob \n",
    "import os \n",
    "import plotly.express as px\n",
    "import tensorflow as tf"
   ]
  },
  {
   "cell_type": "code",
   "execution_count": 2,
   "metadata": {},
   "outputs": [
    {
     "data": {
      "text/plain": [
       "(array([[2.14027714e+01, 4.46265041e+01, 5.68231541e+01, ...,\n",
       "         2.40259051e+00, 1.54148778e+00, 4.38054217e+00],\n",
       "        [7.85726935e-02, 5.92325541e-01, 3.75171544e+00, ...,\n",
       "         9.88461210e-01, 6.12131317e+00, 6.19935125e+00],\n",
       "        [2.32203200e-02, 2.56412896e-01, 1.12046363e+00, ...,\n",
       "         1.30077206e+00, 1.65793364e+00, 1.84003941e+00],\n",
       "        ...,\n",
       "        [9.95489786e+00, 4.62777114e+01, 8.47903708e+01, ...,\n",
       "         4.84911894e-01, 1.82090088e+00, 3.07363351e+00],\n",
       "        [6.27928313e+00, 6.48764794e+01, 1.54435779e+02, ...,\n",
       "         2.09984791e+00, 6.88861683e+00, 1.17583245e+01],\n",
       "        [1.67503509e+00, 1.72376240e-01, 1.61741488e+00, ...,\n",
       "         3.62250555e-02, 2.51721926e-01, 7.40621699e-01]]),\n",
       " array([0, 1, 2, 3, 4, 5, 6, 7, 8, 9, 0, 1, 2, 3, 4, 5, 6, 7, 8, 9, 0, 1,\n",
       "        2, 3, 4, 5, 6, 7, 8, 9, 0, 1, 2, 3, 4, 5, 6, 7, 8, 9, 0, 1, 2, 3,\n",
       "        4, 5, 6, 7, 8, 9, 0, 1, 2, 3, 4, 5, 6, 7, 8, 9, 0, 1, 2, 3, 4, 5,\n",
       "        6, 7, 8, 9]))"
      ]
     },
     "execution_count": 2,
     "metadata": {},
     "output_type": "execute_result"
    }
   ],
   "source": [
    "nb_samples = 50\n",
    "create_img_dataset('../DATA',nb_samples)"
   ]
  },
  {
   "cell_type": "code",
   "execution_count": 3,
   "metadata": {},
   "outputs": [],
   "source": [
    "df = pd.read_csv('../Image_dataset/imgs_dataset(40,50).csv')\n",
    "y = df['labels'].astype(int)\n",
    "X = df.to_numpy().T[2:].T\n",
    "X.shape\n",
    "nb_samples = 50"
   ]
  },
  {
   "cell_type": "code",
   "execution_count": 4,
   "metadata": {},
   "outputs": [
    {
     "data": {
      "image/png": "[encoded data removed]",
      "text/plain": [
       "<Figure size 432x288 with 1 Axes>"
      ]
     },
     "metadata": {
      "needs_background": "light"
     },
     "output_type": "display_data"
    }
   ],
   "source": [
    "N=0\n",
    "plt.imshow(X[N].reshape(40,nb_samples))\n",
    "plt.title('label : '+str(y[N]))\n",
    "plt.show()"
   ]
  },
  {
   "cell_type": "code",
   "execution_count": 24,
   "metadata": {},
   "outputs": [
    {
     "name": "stdout",
     "output_type": "stream",
     "text": [
      "(60, 40, 50, 1)\n",
      "(10, 40, 50, 1)\n"
     ]
    }
   ],
   "source": [
    "n_train = 60\n",
    "\n",
    "x_train,y_train = X[:n_train],y[:n_train]\n",
    "x_train = np.reshape(x_train, (x_train.shape[0], 40, nb_samples, 1))\n",
    "\n",
    "x_test,y_test = X[n_train:],y[n_train:]\n",
    "x_test = np.reshape(x_test, (x_test.shape[0], 40,nb_samples, 1))\n",
    "print(x_train.shape)\n",
    "print(x_test.shape)\n"
   ]
  },
  {
   "cell_type": "code",
   "execution_count": 42,
   "metadata": {},
   "outputs": [
    {
     "name": "stdout",
     "output_type": "stream",
     "text": [
      "Model: \"model_8\"\n",
      "_________________________________________________________________\n",
      " Layer (type)                Output Shape              Param #   \n",
      "=================================================================\n",
      " input_9 (InputLayer)        [(None, 40, 50, 1)]       0         \n",
      "                                                                 \n",
      " conv2d_8 (Conv2D)           (None, 40, 50, 32)        3872      \n",
      "                                                                 \n",
      " max_pooling2d_8 (MaxPooling  (None, 20, 25, 32)       0         \n",
      " 2D)                                                             \n",
      "                                                                 \n",
      " tf.reshape_8 (TFOpLambda)   (None, 16000)             0         \n",
      "                                                                 \n",
      " dense_16 (Dense)            (None, 20)                320020    \n",
      "                                                                 \n",
      " dense_17 (Dense)            (None, 10)                210       \n",
      "                                                                 \n",
      " softmax_8 (Softmax)         (None, 10)                0         \n",
      "                                                                 \n",
      "=================================================================\n",
      "Total params: 324,102\n",
      "Trainable params: 324,102\n",
      "Non-trainable params: 0\n",
      "_________________________________________________________________\n"
     ]
    }
   ],
   "source": [
    "\n",
    "inputs = tf.keras.Input(shape=(x_train.shape[1], x_train.shape[2],1))\n",
    "\n",
    "# Convolutional Layer #1\n",
    "conv1 = tf.keras.layers.Conv2D(\n",
    "      filters=32,\n",
    "      kernel_size=[40, 3],\n",
    "      padding=\"same\",\n",
    "      activation=tf.nn.relu)(inputs)\n",
    "# Pooling Layer #1\n",
    "pool1 = tf.keras.layers.MaxPooling2D(pool_size=[2, 2], strides=2)(conv1)\n",
    "\n",
    "dflat1 = pool1.shape[1] * pool1.shape[2] * pool1.shape[3]\n",
    "pool3_flat = tf.reshape(pool1, [-1, dflat1])\n",
    "\n",
    "mlp1 = tf.keras.layers.Dense(units=20, activation=tf.nn.relu)(pool3_flat)\n",
    "\n",
    "logits = tf.keras.layers.Dense(units=10)(mlp1)\n",
    "smax = tf.keras.layers.Softmax()(logits)\n",
    "model1 = tf.keras.Model(inputs=inputs, outputs=smax)\n",
    "\n",
    "model1.compile(optimizer=tf.keras.optimizers.Adam(learning_rate=1e-1),\n",
    "              loss=tf.keras.losses.CategoricalCrossentropy(),\n",
    "              metrics=[tf.keras.metrics.CategoricalAccuracy(),])\n",
    "\n",
    "model1.summary()"
   ]
  },
  {
   "cell_type": "code",
   "execution_count": 43,
   "metadata": {},
   "outputs": [
    {
     "name": "stdout",
     "output_type": "stream",
     "text": [
      "Epoch 1/10\n",
      "30/30 [==============================] - 0s 5ms/step - loss: 271.4053 - categorical_accuracy: 0.0500\n",
      "Epoch 2/10\n",
      "30/30 [==============================] - 0s 5ms/step - loss: 2.3786 - categorical_accuracy: 0.0167\n",
      "Epoch 3/10\n",
      "30/30 [==============================] - 0s 5ms/step - loss: 2.3559 - categorical_accuracy: 0.0667\n",
      "Epoch 4/10\n",
      "30/30 [==============================] - 0s 5ms/step - loss: 2.3762 - categorical_accuracy: 0.0167\n",
      "Epoch 5/10\n",
      "30/30 [==============================] - 0s 5ms/step - loss: 2.3450 - categorical_accuracy: 0.0333\n",
      "Epoch 6/10\n",
      "30/30 [==============================] - 0s 5ms/step - loss: 2.3765 - categorical_accuracy: 0.0333\n",
      "Epoch 7/10\n",
      "30/30 [==============================] - 0s 5ms/step - loss: 2.3488 - categorical_accuracy: 0.0500\n",
      "Epoch 8/10\n",
      "30/30 [==============================] - 0s 5ms/step - loss: 2.3720 - categorical_accuracy: 0.0500\n",
      "Epoch 9/10\n",
      "30/30 [==============================] - 0s 5ms/step - loss: 2.3563 - categorical_accuracy: 0.0500\n",
      "Epoch 10/10\n",
      "30/30 [==============================] - 0s 5ms/step - loss: 2.3666 - categorical_accuracy: 0.0500\n"
     ]
    },
    {
     "data": {
      "text/plain": [
       "<keras.callbacks.History at 0x28232e448b0>"
      ]
     },
     "execution_count": 43,
     "metadata": {},
     "output_type": "execute_result"
    }
   ],
   "source": [
    "model1.fit(x=x_train, y=tf.keras.utils.to_categorical(y_train), batch_size=2, epochs=10) "
   ]
  },
  {
   "cell_type": "code",
   "execution_count": 37,
   "metadata": {},
   "outputs": [
    {
     "name": "stdout",
     "output_type": "stream",
     "text": [
      "Evaluate on test data\n",
      "5/5 [==============================] - 0s 2ms/step - loss: 2.3026 - categorical_accuracy: 0.1000\n",
      "test loss, test acc: [2.3025925159454346, 0.10000000149011612]\n"
     ]
    }
   ],
   "source": [
    "# Evaluate the model on the test data using `evaluate`\n",
    "print(\"Evaluate on test data\")\n",
    "results = model1.evaluate(x=x_test, y=tf.keras.utils.to_categorical(y_test), batch_size=2)\n",
    "print(\"test loss, test acc:\", results)\n",
    "\n",
    "# Generate predictions (probabilities -- the output of the last layer)\n",
    "# on new data using `predict`\n",
    "predictions = model1.predict(x_test)"
   ]
  },
  {
   "cell_type": "code",
   "execution_count": null,
   "metadata": {},
   "outputs": [],
   "source": []
  }
 ],
 "metadata": {
  "interpreter": {
   "hash": "75f9f9ee5ef6a2d86672b423834af4c94148b95a054c4c028ec9f6b37b0b6be5"
  },
  "kernelspec": {
   "display_name": "Python 3.8.12 ('projet_eeg')",
   "language": "python",
   "name": "python3"
  },
  "language_info": {
   "codemirror_mode": {
    "name": "ipython",
    "version": 3
   },
   "file_extension": ".py",
   "mimetype": "text/x-python",
   "name": "python",
   "nbconvert_exporter": "python",
   "pygments_lexer": "ipython3",
   "version": "3.8.12"
  },
  "orig_nbformat": 4
 },
 "nbformat": 4,
 "nbformat_minor": 2
}
