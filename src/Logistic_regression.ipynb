{
 "cells": [
  {
   "cell_type": "code",
   "execution_count": 17,
   "metadata": {},
   "outputs": [
    {
     "name": "stdout",
     "output_type": "stream",
     "text": [
      "The autoreload extension is already loaded. To reload it, use:\n",
      "  %reload_ext autoreload\n"
     ]
    }
   ],
   "source": [
    "%load_ext autoreload\n",
    "%autoreload 2\n",
    "\n",
    "from Dataset import *\n",
    "import numpy as np\n",
    "import matplotlib.pyplot as plt\n",
    "from sklearn.linear_model import LogisticRegression\n",
    "from sklearn import datasets\n",
    "from sklearn import utils\n",
    "from sklearn.discriminant_analysis import LinearDiscriminantAnalysis as LDA\n",
    "from sklearn.decomposition import PCA\n",
    "import plotly.express as px\n"
   ]
  },
  {
   "cell_type": "code",
   "execution_count": 18,
   "metadata": {},
   "outputs": [
    {
     "data": {
      "text/plain": [
       "((80, 4000), (80,))"
      ]
     },
     "execution_count": 18,
     "metadata": {},
     "output_type": "execute_result"
    }
   ],
   "source": [
    "df = pd.read_csv('../Image_dataset/imgs_dataset(40,100).csv')\n",
    "y = df['labels'].to_numpy().astype(int)\n",
    "X = df.to_numpy().T[2:].T\n",
    "X.shape\n",
    "nb_samples = 100\n",
    "exp_day = (np.tile(range(5),(10,1)).T).reshape(-1)\n",
    "\n",
    "nb_class = 3\n",
    "\n",
    "#X=np.concatenate([X[np.where(y==0)],X[np.where(y==5)],X[np.where(y==8)]])\n",
    "#y=np.concatenate([y[np.where(y==0)[0]], y[np.where(y==5)[0]], y[np.where(y==8)[0]]])\n",
    "#exp_day=np.concatenate([exp_day[np.where(y==0)[0]], exp_day[np.where(y==5)[0]], exp_day[np.where(y==8)[0]]])\n",
    "X.shape,y.shape"
   ]
  },
  {
   "cell_type": "code",
   "execution_count": 26,
   "metadata": {},
   "outputs": [
    {
     "name": "stdout",
     "output_type": "stream",
     "text": [
      "70\n"
     ]
    },
    {
     "data": {
      "text/plain": [
       "((70, 5), (10, 5))"
      ]
     },
     "execution_count": 26,
     "metadata": {},
     "output_type": "execute_result"
    }
   ],
   "source": [
    "train_ratio = 7/8\n",
    "n_train = int(len(X)*train_ratio)\n",
    "print(n_train)\n",
    "X, y = utils.shuffle(X, y,random_state=100)\n",
    "\n",
    "x_train,y_train = X[:n_train],y[:n_train]\n",
    "x_test,y_test = X[n_train:],y[n_train:]\n",
    "\n",
    "lda = LDA(n_components=5)\n",
    "lda.fit(x_train,y_train)\n",
    "proj_train = lda.transform(x_train)\n",
    "proj_test = lda.transform(x_test)\n",
    "\n",
    "proj_train.shape,proj_test.shape"
   ]
  },
  {
   "cell_type": "code",
   "execution_count": 27,
   "metadata": {},
   "outputs": [
    {
     "data": {
      "application/vnd.plotly.v1+json": {
       "config": {
        "plotlyServerURL": "https://plot.ly"
       },
       "data": [
        {
         "hovertemplate": "class=5<br>first_compo=%{x}<br>second_compo=%{y}<extra></extra>",
         "legendgroup": "5",
         "marker": {
          "color": "#636efa",
          "symbol": "circle"
         },
         "mode": "markers",
         "name": "5",
         "orientation": "v",
         "showlegend": true,
         "type": "scatter",
         "x": [
          1.8102724083194384,
          0.7113726548754367,
          -0.4687448973035239,
          1.1716781661647948,
          1.4953608416324837,
          1.0674349780212466,
          -0.34003673430281645,
          1.5697356109149854
         ],
         "xaxis": "x",
         "y": [
          -1.549019933163031,
          0.5486716291715111,
          -0.11841453478021842,
          -0.9301675707128254,
          -2.3191637090517836,
          -0.5381531476915077,
          0.2888480513142754,
          -1.6366167478760332
         ],
         "yaxis": "y"
        },
        {
         "alignmentgroup": "True",
         "hovertemplate": "class=5<br>first_compo=%{x}<extra></extra>",
         "legendgroup": "5",
         "marker": {
          "color": "#636efa",
          "symbol": "circle"
         },
         "name": "5",
         "notched": true,
         "offsetgroup": "5",
         "showlegend": false,
         "type": "box",
         "x": [
          1.8102724083194384,
          0.7113726548754367,
          -0.4687448973035239,
          1.1716781661647948,
          1.4953608416324837,
          1.0674349780212466,
          -0.34003673430281645,
          1.5697356109149854
         ],
         "xaxis": "x3",
         "yaxis": "y3"
        },
        {
         "alignmentgroup": "True",
         "hovertemplate": "class=5<br>second_compo=%{y}<extra></extra>",
         "legendgroup": "5",
         "marker": {
          "color": "#636efa",
          "symbol": "circle"
         },
         "name": "5",
         "notched": true,
         "offsetgroup": "5",
         "showlegend": false,
         "type": "box",
         "xaxis": "x2",
         "y": [
          -1.549019933163031,
          0.5486716291715111,
          -0.11841453478021842,
          -0.9301675707128254,
          -2.3191637090517836,
          -0.5381531476915077,
          0.2888480513142754,
          -1.6366167478760332
         ],
         "yaxis": "y2"
        },
        {
         "hovertemplate": "class=6<br>first_compo=%{x}<br>second_compo=%{y}<extra></extra>",
         "legendgroup": "6",
         "marker": {
          "color": "#EF553B",
          "symbol": "diamond"
         },
         "mode": "markers",
         "name": "6",
         "orientation": "v",
         "showlegend": true,
         "type": "scatter",
         "x": [
          1.368026269979074,
          -0.513193208486716,
          -0.3800460765881134,
          0.11229742376248741,
          0.17155331720148004,
          0.730248063550138,
          0.5452321153187291
         ],
         "xaxis": "x",
         "y": [
          -0.15039477687143768,
          0.2530403964103162,
          -0.14886772265690337,
          0.39566193030543495,
          -1.2721131490667863,
          -0.13571577304159455,
          -0.2385009815665849
         ],
         "yaxis": "y"
        },
        {
         "alignmentgroup": "True",
         "hovertemplate": "class=6<br>first_compo=%{x}<extra></extra>",
         "legendgroup": "6",
         "marker": {
          "color": "#EF553B",
          "symbol": "diamond"
         },
         "name": "6",
         "notched": true,
         "offsetgroup": "6",
         "showlegend": false,
         "type": "box",
         "x": [
          1.368026269979074,
          -0.513193208486716,
          -0.3800460765881134,
          0.11229742376248741,
          0.17155331720148004,
          0.730248063550138,
          0.5452321153187291
         ],
         "xaxis": "x3",
         "yaxis": "y3"
        },
        {
         "alignmentgroup": "True",
         "hovertemplate": "class=6<br>second_compo=%{y}<extra></extra>",
         "legendgroup": "6",
         "marker": {
          "color": "#EF553B",
          "symbol": "diamond"
         },
         "name": "6",
         "notched": true,
         "offsetgroup": "6",
         "showlegend": false,
         "type": "box",
         "xaxis": "x2",
         "y": [
          -0.15039477687143768,
          0.2530403964103162,
          -0.14886772265690337,
          0.39566193030543495,
          -1.2721131490667863,
          -0.13571577304159455,
          -0.2385009815665849
         ],
         "yaxis": "y2"
        },
        {
         "hovertemplate": "class=8<br>first_compo=%{x}<br>second_compo=%{y}<extra></extra>",
         "legendgroup": "8",
         "marker": {
          "color": "#00cc96",
          "symbol": "square"
         },
         "mode": "markers",
         "name": "8",
         "orientation": "v",
         "showlegend": true,
         "type": "scatter",
         "x": [
          -0.3239529276742025,
          -0.6959756291436991,
          0.25304322875318386,
          0.1314918811390492,
          1.4727483403881823,
          -0.3585204265162994
         ],
         "xaxis": "x",
         "y": [
          3.5538679255188206,
          0.40768506172091534,
          1.392586557510245,
          -2.500023201128285,
          1.3952069042696356,
          2.3682952265671817
         ],
         "yaxis": "y"
        },
        {
         "alignmentgroup": "True",
         "hovertemplate": "class=8<br>first_compo=%{x}<extra></extra>",
         "legendgroup": "8",
         "marker": {
          "color": "#00cc96",
          "symbol": "square"
         },
         "name": "8",
         "notched": true,
         "offsetgroup": "8",
         "showlegend": false,
         "type": "box",
         "x": [
          -0.3239529276742025,
          -0.6959756291436991,
          0.25304322875318386,
          0.1314918811390492,
          1.4727483403881823,
          -0.3585204265162994
         ],
         "xaxis": "x3",
         "yaxis": "y3"
        },
        {
         "alignmentgroup": "True",
         "hovertemplate": "class=8<br>second_compo=%{y}<extra></extra>",
         "legendgroup": "8",
         "marker": {
          "color": "#00cc96",
          "symbol": "square"
         },
         "name": "8",
         "notched": true,
         "offsetgroup": "8",
         "showlegend": false,
         "type": "box",
         "xaxis": "x2",
         "y": [
          3.5538679255188206,
          0.40768506172091534,
          1.392586557510245,
          -2.500023201128285,
          1.3952069042696356,
          2.3682952265671817
         ],
         "yaxis": "y2"
        },
        {
         "hovertemplate": "class=1<br>first_compo=%{x}<br>second_compo=%{y}<extra></extra>",
         "legendgroup": "1",
         "marker": {
          "color": "#ab63fa",
          "symbol": "x"
         },
         "mode": "markers",
         "name": "1",
         "orientation": "v",
         "showlegend": true,
         "type": "scatter",
         "x": [
          0.08101129192208299,
          -0.6439349517873983,
          0.4509605224137159,
          1.1260532483475854,
          0.549540696891104,
          1.268482495363684,
          0.5051785399538754,
          0.4459561719477672
         ],
         "xaxis": "x",
         "y": [
          0.2010848146631304,
          -0.4730949949184655,
          0.1303839148361326,
          2.7799823896535747,
          -0.1407389252356309,
          1.350558945913084,
          1.4029854632071386,
          2.23747340542563
         ],
         "yaxis": "y"
        },
        {
         "alignmentgroup": "True",
         "hovertemplate": "class=1<br>first_compo=%{x}<extra></extra>",
         "legendgroup": "1",
         "marker": {
          "color": "#ab63fa",
          "symbol": "x"
         },
         "name": "1",
         "notched": true,
         "offsetgroup": "1",
         "showlegend": false,
         "type": "box",
         "x": [
          0.08101129192208299,
          -0.6439349517873983,
          0.4509605224137159,
          1.1260532483475854,
          0.549540696891104,
          1.268482495363684,
          0.5051785399538754,
          0.4459561719477672
         ],
         "xaxis": "x3",
         "yaxis": "y3"
        },
        {
         "alignmentgroup": "True",
         "hovertemplate": "class=1<br>second_compo=%{y}<extra></extra>",
         "legendgroup": "1",
         "marker": {
          "color": "#ab63fa",
          "symbol": "x"
         },
         "name": "1",
         "notched": true,
         "offsetgroup": "1",
         "showlegend": false,
         "type": "box",
         "xaxis": "x2",
         "y": [
          0.2010848146631304,
          -0.4730949949184655,
          0.1303839148361326,
          2.7799823896535747,
          -0.1407389252356309,
          1.350558945913084,
          1.4029854632071386,
          2.23747340542563
         ],
         "yaxis": "y2"
        },
        {
         "hovertemplate": "class=9<br>first_compo=%{x}<br>second_compo=%{y}<extra></extra>",
         "legendgroup": "9",
         "marker": {
          "color": "#FFA15A",
          "symbol": "cross"
         },
         "mode": "markers",
         "name": "9",
         "orientation": "v",
         "showlegend": true,
         "type": "scatter",
         "x": [
          1.0371602252189445,
          -0.3386115352442614,
          0.3478367510391266,
          -0.5386116091479997,
          -0.9698044879736576,
          0.3071023168812806,
          -0.7234032059739987
         ],
         "xaxis": "x",
         "y": [
          -0.17864701828545212,
          -0.15368748129343615,
          -0.2094993604818483,
          0.6638517170609041,
          0.631173944460889,
          1.0018950668371238,
          0.0817457552022722
         ],
         "yaxis": "y"
        },
        {
         "alignmentgroup": "True",
         "hovertemplate": "class=9<br>first_compo=%{x}<extra></extra>",
         "legendgroup": "9",
         "marker": {
          "color": "#FFA15A",
          "symbol": "cross"
         },
         "name": "9",
         "notched": true,
         "offsetgroup": "9",
         "showlegend": false,
         "type": "box",
         "x": [
          1.0371602252189445,
          -0.3386115352442614,
          0.3478367510391266,
          -0.5386116091479997,
          -0.9698044879736576,
          0.3071023168812806,
          -0.7234032059739987
         ],
         "xaxis": "x3",
         "yaxis": "y3"
        },
        {
         "alignmentgroup": "True",
         "hovertemplate": "class=9<br>second_compo=%{y}<extra></extra>",
         "legendgroup": "9",
         "marker": {
          "color": "#FFA15A",
          "symbol": "cross"
         },
         "name": "9",
         "notched": true,
         "offsetgroup": "9",
         "showlegend": false,
         "type": "box",
         "xaxis": "x2",
         "y": [
          -0.17864701828545212,
          -0.15368748129343615,
          -0.2094993604818483,
          0.6638517170609041,
          0.631173944460889,
          1.0018950668371238,
          0.0817457552022722
         ],
         "yaxis": "y2"
        },
        {
         "hovertemplate": "class=2<br>first_compo=%{x}<br>second_compo=%{y}<extra></extra>",
         "legendgroup": "2",
         "marker": {
          "color": "#19d3f3",
          "symbol": "circle"
         },
         "mode": "markers",
         "name": "2",
         "orientation": "v",
         "showlegend": true,
         "type": "scatter",
         "x": [
          -0.16506077896134214,
          0.4276282537579352,
          -0.5573704683575625,
          0.1613062651780816,
          -0.5157691645310717,
          -0.05257028119164447,
          0.5517391458663374,
          -0.021329157645999672
         ],
         "xaxis": "x",
         "y": [
          0.4636480915489421,
          1.247333359455566,
          -0.4257618350763003,
          -0.16061991799103273,
          -0.15736493431497872,
          -0.0196766366629724,
          0.27274849618134905,
          0.5888808556251975
         ],
         "yaxis": "y"
        },
        {
         "alignmentgroup": "True",
         "hovertemplate": "class=2<br>first_compo=%{x}<extra></extra>",
         "legendgroup": "2",
         "marker": {
          "color": "#19d3f3",
          "symbol": "circle"
         },
         "name": "2",
         "notched": true,
         "offsetgroup": "2",
         "showlegend": false,
         "type": "box",
         "x": [
          -0.16506077896134214,
          0.4276282537579352,
          -0.5573704683575625,
          0.1613062651780816,
          -0.5157691645310717,
          -0.05257028119164447,
          0.5517391458663374,
          -0.021329157645999672
         ],
         "xaxis": "x3",
         "yaxis": "y3"
        },
        {
         "alignmentgroup": "True",
         "hovertemplate": "class=2<br>second_compo=%{y}<extra></extra>",
         "legendgroup": "2",
         "marker": {
          "color": "#19d3f3",
          "symbol": "circle"
         },
         "name": "2",
         "notched": true,
         "offsetgroup": "2",
         "showlegend": false,
         "type": "box",
         "xaxis": "x2",
         "y": [
          0.4636480915489421,
          1.247333359455566,
          -0.4257618350763003,
          -0.16061991799103273,
          -0.15736493431497872,
          -0.0196766366629724,
          0.27274849618134905,
          0.5888808556251975
         ],
         "yaxis": "y2"
        },
        {
         "hovertemplate": "class=4<br>first_compo=%{x}<br>second_compo=%{y}<extra></extra>",
         "legendgroup": "4",
         "marker": {
          "color": "#FF6692",
          "symbol": "diamond"
         },
         "mode": "markers",
         "name": "4",
         "orientation": "v",
         "showlegend": true,
         "type": "scatter",
         "x": [
          0.3154535469299192,
          0.6678304824874804,
          -0.008722158574442175,
          -0.297543855654817,
          -0.41650894298019303,
          -0.3993358624293486,
          0.9182991761231819,
          -0.9762113878264479
         ],
         "xaxis": "x",
         "y": [
          -1.1221281166011228,
          -0.3485348099521678,
          -0.25994272173405464,
          0.4831728133086749,
          -0.5705776294280783,
          -1.472461021480835,
          -0.3938871449863097,
          0.07913144857751372
         ],
         "yaxis": "y"
        },
        {
         "alignmentgroup": "True",
         "hovertemplate": "class=4<br>first_compo=%{x}<extra></extra>",
         "legendgroup": "4",
         "marker": {
          "color": "#FF6692",
          "symbol": "diamond"
         },
         "name": "4",
         "notched": true,
         "offsetgroup": "4",
         "showlegend": false,
         "type": "box",
         "x": [
          0.3154535469299192,
          0.6678304824874804,
          -0.008722158574442175,
          -0.297543855654817,
          -0.41650894298019303,
          -0.3993358624293486,
          0.9182991761231819,
          -0.9762113878264479
         ],
         "xaxis": "x3",
         "yaxis": "y3"
        },
        {
         "alignmentgroup": "True",
         "hovertemplate": "class=4<br>second_compo=%{y}<extra></extra>",
         "legendgroup": "4",
         "marker": {
          "color": "#FF6692",
          "symbol": "diamond"
         },
         "name": "4",
         "notched": true,
         "offsetgroup": "4",
         "showlegend": false,
         "type": "box",
         "xaxis": "x2",
         "y": [
          -1.1221281166011228,
          -0.3485348099521678,
          -0.25994272173405464,
          0.4831728133086749,
          -0.5705776294280783,
          -1.472461021480835,
          -0.3938871449863097,
          0.07913144857751372
         ],
         "yaxis": "y2"
        },
        {
         "hovertemplate": "class=3<br>first_compo=%{x}<br>second_compo=%{y}<extra></extra>",
         "legendgroup": "3",
         "marker": {
          "color": "#B6E880",
          "symbol": "square"
         },
         "mode": "markers",
         "name": "3",
         "orientation": "v",
         "showlegend": true,
         "type": "scatter",
         "x": [
          0.6985217653884961,
          0.12633903722174106,
          0.05923421660904973,
          0.08300069184377298,
          -0.25672680134186776,
          -0.0025521364990396637,
          -0.15199271856230345
         ],
         "xaxis": "x",
         "y": [
          -1.5589662038705248,
          -0.9692185027772895,
          1.0753309293836477,
          -2.288123485344247,
          -0.9124144959678203,
          -1.746407782813362,
          0.9130543008698256
         ],
         "yaxis": "y"
        },
        {
         "alignmentgroup": "True",
         "hovertemplate": "class=3<br>first_compo=%{x}<extra></extra>",
         "legendgroup": "3",
         "marker": {
          "color": "#B6E880",
          "symbol": "square"
         },
         "name": "3",
         "notched": true,
         "offsetgroup": "3",
         "showlegend": false,
         "type": "box",
         "x": [
          0.6985217653884961,
          0.12633903722174106,
          0.05923421660904973,
          0.08300069184377298,
          -0.25672680134186776,
          -0.0025521364990396637,
          -0.15199271856230345
         ],
         "xaxis": "x3",
         "yaxis": "y3"
        },
        {
         "alignmentgroup": "True",
         "hovertemplate": "class=3<br>second_compo=%{y}<extra></extra>",
         "legendgroup": "3",
         "marker": {
          "color": "#B6E880",
          "symbol": "square"
         },
         "name": "3",
         "notched": true,
         "offsetgroup": "3",
         "showlegend": false,
         "type": "box",
         "xaxis": "x2",
         "y": [
          -1.5589662038705248,
          -0.9692185027772895,
          1.0753309293836477,
          -2.288123485344247,
          -0.9124144959678203,
          -1.746407782813362,
          0.9130543008698256
         ],
         "yaxis": "y2"
        },
        {
         "hovertemplate": "class=0<br>first_compo=%{x}<br>second_compo=%{y}<extra></extra>",
         "legendgroup": "0",
         "marker": {
          "color": "#FF97FF",
          "symbol": "x"
         },
         "mode": "markers",
         "name": "0",
         "orientation": "v",
         "showlegend": true,
         "type": "scatter",
         "x": [
          -4.079877440776956,
          -2.6430932593402523,
          -2.8903005566287314,
          2.6453834094405604,
          -5.466723969460959
         ],
         "xaxis": "x",
         "y": [
          -0.7228578874051961,
          0.4074408110130532,
          -0.6764177907697357,
          0.4660532064405459,
          -0.44116274369642794
         ],
         "yaxis": "y"
        },
        {
         "alignmentgroup": "True",
         "hovertemplate": "class=0<br>first_compo=%{x}<extra></extra>",
         "legendgroup": "0",
         "marker": {
          "color": "#FF97FF",
          "symbol": "x"
         },
         "name": "0",
         "notched": true,
         "offsetgroup": "0",
         "showlegend": false,
         "type": "box",
         "x": [
          -4.079877440776956,
          -2.6430932593402523,
          -2.8903005566287314,
          2.6453834094405604,
          -5.466723969460959
         ],
         "xaxis": "x3",
         "yaxis": "y3"
        },
        {
         "alignmentgroup": "True",
         "hovertemplate": "class=0<br>second_compo=%{y}<extra></extra>",
         "legendgroup": "0",
         "marker": {
          "color": "#FF97FF",
          "symbol": "x"
         },
         "name": "0",
         "notched": true,
         "offsetgroup": "0",
         "showlegend": false,
         "type": "box",
         "xaxis": "x2",
         "y": [
          -0.7228578874051961,
          0.4074408110130532,
          -0.6764177907697357,
          0.4660532064405459,
          -0.44116274369642794
         ],
         "yaxis": "y2"
        },
        {
         "hovertemplate": "class=7<br>first_compo=%{x}<br>second_compo=%{y}<extra></extra>",
         "legendgroup": "7",
         "marker": {
          "color": "#FECB52",
          "symbol": "cross"
         },
         "mode": "markers",
         "name": "7",
         "orientation": "v",
         "showlegend": true,
         "type": "scatter",
         "x": [
          0.3109031455335567,
          -0.5912984457342042,
          -0.04701783342194135,
          0.7271614113460002,
          -0.6762107965815581,
          0.08847359891737624
         ],
         "xaxis": "x",
         "y": [
          -0.17877617457485617,
          0.26175684539025323,
          0.08570852577434286,
          -0.9218361777904144,
          1.085579076539644,
          -0.474882819097222
         ],
         "yaxis": "y"
        },
        {
         "alignmentgroup": "True",
         "hovertemplate": "class=7<br>first_compo=%{x}<extra></extra>",
         "legendgroup": "7",
         "marker": {
          "color": "#FECB52",
          "symbol": "cross"
         },
         "name": "7",
         "notched": true,
         "offsetgroup": "7",
         "showlegend": false,
         "type": "box",
         "x": [
          0.3109031455335567,
          -0.5912984457342042,
          -0.04701783342194135,
          0.7271614113460002,
          -0.6762107965815581,
          0.08847359891737624
         ],
         "xaxis": "x3",
         "yaxis": "y3"
        },
        {
         "alignmentgroup": "True",
         "hovertemplate": "class=7<br>second_compo=%{y}<extra></extra>",
         "legendgroup": "7",
         "marker": {
          "color": "#FECB52",
          "symbol": "cross"
         },
         "name": "7",
         "notched": true,
         "offsetgroup": "7",
         "showlegend": false,
         "type": "box",
         "xaxis": "x2",
         "y": [
          -0.17877617457485617,
          0.26175684539025323,
          0.08570852577434286,
          -0.9218361777904144,
          1.085579076539644,
          -0.474882819097222
         ],
         "yaxis": "y2"
        }
       ],
       "layout": {
        "legend": {
         "title": {
          "text": "class"
         },
         "tracegroupgap": 0
        },
        "template": {
         "data": {
          "bar": [
           {
            "error_x": {
             "color": "#2a3f5f"
            },
            "error_y": {
             "color": "#2a3f5f"
            },
            "marker": {
             "line": {
              "color": "#E5ECF6",
              "width": 0.5
             },
             "pattern": {
              "fillmode": "overlay",
              "size": 10,
              "solidity": 0.2
             }
            },
            "type": "bar"
           }
          ],
          "barpolar": [
           {
            "marker": {
             "line": {
              "color": "#E5ECF6",
              "width": 0.5
             },
             "pattern": {
              "fillmode": "overlay",
              "size": 10,
              "solidity": 0.2
             }
            },
            "type": "barpolar"
           }
          ],
          "carpet": [
           {
            "aaxis": {
             "endlinecolor": "#2a3f5f",
             "gridcolor": "white",
             "linecolor": "white",
             "minorgridcolor": "white",
             "startlinecolor": "#2a3f5f"
            },
            "baxis": {
             "endlinecolor": "#2a3f5f",
             "gridcolor": "white",
             "linecolor": "white",
             "minorgridcolor": "white",
             "startlinecolor": "#2a3f5f"
            },
            "type": "carpet"
           }
          ],
          "choropleth": [
           {
            "colorbar": {
             "outlinewidth": 0,
             "ticks": ""
            },
            "type": "choropleth"
           }
          ],
          "contour": [
           {
            "colorbar": {
             "outlinewidth": 0,
             "ticks": ""
            },
            "colorscale": [
             [
              0,
              "#0d0887"
             ],
             [
              0.1111111111111111,
              "#46039f"
             ],
             [
              0.2222222222222222,
              "#7201a8"
             ],
             [
              0.3333333333333333,
              "#9c179e"
             ],
             [
              0.4444444444444444,
              "#bd3786"
             ],
             [
              0.5555555555555556,
              "#d8576b"
             ],
             [
              0.6666666666666666,
              "#ed7953"
             ],
             [
              0.7777777777777778,
              "#fb9f3a"
             ],
             [
              0.8888888888888888,
              "#fdca26"
             ],
             [
              1,
              "#f0f921"
             ]
            ],
            "type": "contour"
           }
          ],
          "contourcarpet": [
           {
            "colorbar": {
             "outlinewidth": 0,
             "ticks": ""
            },
            "type": "contourcarpet"
           }
          ],
          "heatmap": [
           {
            "colorbar": {
             "outlinewidth": 0,
             "ticks": ""
            },
            "colorscale": [
             [
              0,
              "#0d0887"
             ],
             [
              0.1111111111111111,
              "#46039f"
             ],
             [
              0.2222222222222222,
              "#7201a8"
             ],
             [
              0.3333333333333333,
              "#9c179e"
             ],
             [
              0.4444444444444444,
              "#bd3786"
             ],
             [
              0.5555555555555556,
              "#d8576b"
             ],
             [
              0.6666666666666666,
              "#ed7953"
             ],
             [
              0.7777777777777778,
              "#fb9f3a"
             ],
             [
              0.8888888888888888,
              "#fdca26"
             ],
             [
              1,
              "#f0f921"
             ]
            ],
            "type": "heatmap"
           }
          ],
          "heatmapgl": [
           {
            "colorbar": {
             "outlinewidth": 0,
             "ticks": ""
            },
            "colorscale": [
             [
              0,
              "#0d0887"
             ],
             [
              0.1111111111111111,
              "#46039f"
             ],
             [
              0.2222222222222222,
              "#7201a8"
             ],
             [
              0.3333333333333333,
              "#9c179e"
             ],
             [
              0.4444444444444444,
              "#bd3786"
             ],
             [
              0.5555555555555556,
              "#d8576b"
             ],
             [
              0.6666666666666666,
              "#ed7953"
             ],
             [
              0.7777777777777778,
              "#fb9f3a"
             ],
             [
              0.8888888888888888,
              "#fdca26"
             ],
             [
              1,
              "#f0f921"
             ]
            ],
            "type": "heatmapgl"
           }
          ],
          "histogram": [
           {
            "marker": {
             "pattern": {
              "fillmode": "overlay",
              "size": 10,
              "solidity": 0.2
             }
            },
            "type": "histogram"
           }
          ],
          "histogram2d": [
           {
            "colorbar": {
             "outlinewidth": 0,
             "ticks": ""
            },
            "colorscale": [
             [
              0,
              "#0d0887"
             ],
             [
              0.1111111111111111,
              "#46039f"
             ],
             [
              0.2222222222222222,
              "#7201a8"
             ],
             [
              0.3333333333333333,
              "#9c179e"
             ],
             [
              0.4444444444444444,
              "#bd3786"
             ],
             [
              0.5555555555555556,
              "#d8576b"
             ],
             [
              0.6666666666666666,
              "#ed7953"
             ],
             [
              0.7777777777777778,
              "#fb9f3a"
             ],
             [
              0.8888888888888888,
              "#fdca26"
             ],
             [
              1,
              "#f0f921"
             ]
            ],
            "type": "histogram2d"
           }
          ],
          "histogram2dcontour": [
           {
            "colorbar": {
             "outlinewidth": 0,
             "ticks": ""
            },
            "colorscale": [
             [
              0,
              "#0d0887"
             ],
             [
              0.1111111111111111,
              "#46039f"
             ],
             [
              0.2222222222222222,
              "#7201a8"
             ],
             [
              0.3333333333333333,
              "#9c179e"
             ],
             [
              0.4444444444444444,
              "#bd3786"
             ],
             [
              0.5555555555555556,
              "#d8576b"
             ],
             [
              0.6666666666666666,
              "#ed7953"
             ],
             [
              0.7777777777777778,
              "#fb9f3a"
             ],
             [
              0.8888888888888888,
              "#fdca26"
             ],
             [
              1,
              "#f0f921"
             ]
            ],
            "type": "histogram2dcontour"
           }
          ],
          "mesh3d": [
           {
            "colorbar": {
             "outlinewidth": 0,
             "ticks": ""
            },
            "type": "mesh3d"
           }
          ],
          "parcoords": [
           {
            "line": {
             "colorbar": {
              "outlinewidth": 0,
              "ticks": ""
             }
            },
            "type": "parcoords"
           }
          ],
          "pie": [
           {
            "automargin": true,
            "type": "pie"
           }
          ],
          "scatter": [
           {
            "marker": {
             "colorbar": {
              "outlinewidth": 0,
              "ticks": ""
             }
            },
            "type": "scatter"
           }
          ],
          "scatter3d": [
           {
            "line": {
             "colorbar": {
              "outlinewidth": 0,
              "ticks": ""
             }
            },
            "marker": {
             "colorbar": {
              "outlinewidth": 0,
              "ticks": ""
             }
            },
            "type": "scatter3d"
           }
          ],
          "scattercarpet": [
           {
            "marker": {
             "colorbar": {
              "outlinewidth": 0,
              "ticks": ""
             }
            },
            "type": "scattercarpet"
           }
          ],
          "scattergeo": [
           {
            "marker": {
             "colorbar": {
              "outlinewidth": 0,
              "ticks": ""
             }
            },
            "type": "scattergeo"
           }
          ],
          "scattergl": [
           {
            "marker": {
             "colorbar": {
              "outlinewidth": 0,
              "ticks": ""
             }
            },
            "type": "scattergl"
           }
          ],
          "scattermapbox": [
           {
            "marker": {
             "colorbar": {
              "outlinewidth": 0,
              "ticks": ""
             }
            },
            "type": "scattermapbox"
           }
          ],
          "scatterpolar": [
           {
            "marker": {
             "colorbar": {
              "outlinewidth": 0,
              "ticks": ""
             }
            },
            "type": "scatterpolar"
           }
          ],
          "scatterpolargl": [
           {
            "marker": {
             "colorbar": {
              "outlinewidth": 0,
              "ticks": ""
             }
            },
            "type": "scatterpolargl"
           }
          ],
          "scatterternary": [
           {
            "marker": {
             "colorbar": {
              "outlinewidth": 0,
              "ticks": ""
             }
            },
            "type": "scatterternary"
           }
          ],
          "surface": [
           {
            "colorbar": {
             "outlinewidth": 0,
             "ticks": ""
            },
            "colorscale": [
             [
              0,
              "#0d0887"
             ],
             [
              0.1111111111111111,
              "#46039f"
             ],
             [
              0.2222222222222222,
              "#7201a8"
             ],
             [
              0.3333333333333333,
              "#9c179e"
             ],
             [
              0.4444444444444444,
              "#bd3786"
             ],
             [
              0.5555555555555556,
              "#d8576b"
             ],
             [
              0.6666666666666666,
              "#ed7953"
             ],
             [
              0.7777777777777778,
              "#fb9f3a"
             ],
             [
              0.8888888888888888,
              "#fdca26"
             ],
             [
              1,
              "#f0f921"
             ]
            ],
            "type": "surface"
           }
          ],
          "table": [
           {
            "cells": {
             "fill": {
              "color": "#EBF0F8"
             },
             "line": {
              "color": "white"
             }
            },
            "header": {
             "fill": {
              "color": "#C8D4E3"
             },
             "line": {
              "color": "white"
             }
            },
            "type": "table"
           }
          ]
         },
         "layout": {
          "annotationdefaults": {
           "arrowcolor": "#2a3f5f",
           "arrowhead": 0,
           "arrowwidth": 1
          },
          "autotypenumbers": "strict",
          "coloraxis": {
           "colorbar": {
            "outlinewidth": 0,
            "ticks": ""
           }
          },
          "colorscale": {
           "diverging": [
            [
             0,
             "#8e0152"
            ],
            [
             0.1,
             "#c51b7d"
            ],
            [
             0.2,
             "#de77ae"
            ],
            [
             0.3,
             "#f1b6da"
            ],
            [
             0.4,
             "#fde0ef"
            ],
            [
             0.5,
             "#f7f7f7"
            ],
            [
             0.6,
             "#e6f5d0"
            ],
            [
             0.7,
             "#b8e186"
            ],
            [
             0.8,
             "#7fbc41"
            ],
            [
             0.9,
             "#4d9221"
            ],
            [
             1,
             "#276419"
            ]
           ],
           "sequential": [
            [
             0,
             "#0d0887"
            ],
            [
             0.1111111111111111,
             "#46039f"
            ],
            [
             0.2222222222222222,
             "#7201a8"
            ],
            [
             0.3333333333333333,
             "#9c179e"
            ],
            [
             0.4444444444444444,
             "#bd3786"
            ],
            [
             0.5555555555555556,
             "#d8576b"
            ],
            [
             0.6666666666666666,
             "#ed7953"
            ],
            [
             0.7777777777777778,
             "#fb9f3a"
            ],
            [
             0.8888888888888888,
             "#fdca26"
            ],
            [
             1,
             "#f0f921"
            ]
           ],
           "sequentialminus": [
            [
             0,
             "#0d0887"
            ],
            [
             0.1111111111111111,
             "#46039f"
            ],
            [
             0.2222222222222222,
             "#7201a8"
            ],
            [
             0.3333333333333333,
             "#9c179e"
            ],
            [
             0.4444444444444444,
             "#bd3786"
            ],
            [
             0.5555555555555556,
             "#d8576b"
            ],
            [
             0.6666666666666666,
             "#ed7953"
            ],
            [
             0.7777777777777778,
             "#fb9f3a"
            ],
            [
             0.8888888888888888,
             "#fdca26"
            ],
            [
             1,
             "#f0f921"
            ]
           ]
          },
          "colorway": [
           "#636efa",
           "#EF553B",
           "#00cc96",
           "#ab63fa",
           "#FFA15A",
           "#19d3f3",
           "#FF6692",
           "#B6E880",
           "#FF97FF",
           "#FECB52"
          ],
          "font": {
           "color": "#2a3f5f"
          },
          "geo": {
           "bgcolor": "white",
           "lakecolor": "white",
           "landcolor": "#E5ECF6",
           "showlakes": true,
           "showland": true,
           "subunitcolor": "white"
          },
          "hoverlabel": {
           "align": "left"
          },
          "hovermode": "closest",
          "mapbox": {
           "style": "light"
          },
          "paper_bgcolor": "white",
          "plot_bgcolor": "#E5ECF6",
          "polar": {
           "angularaxis": {
            "gridcolor": "white",
            "linecolor": "white",
            "ticks": ""
           },
           "bgcolor": "#E5ECF6",
           "radialaxis": {
            "gridcolor": "white",
            "linecolor": "white",
            "ticks": ""
           }
          },
          "scene": {
           "xaxis": {
            "backgroundcolor": "#E5ECF6",
            "gridcolor": "white",
            "gridwidth": 2,
            "linecolor": "white",
            "showbackground": true,
            "ticks": "",
            "zerolinecolor": "white"
           },
           "yaxis": {
            "backgroundcolor": "#E5ECF6",
            "gridcolor": "white",
            "gridwidth": 2,
            "linecolor": "white",
            "showbackground": true,
            "ticks": "",
            "zerolinecolor": "white"
           },
           "zaxis": {
            "backgroundcolor": "#E5ECF6",
            "gridcolor": "white",
            "gridwidth": 2,
            "linecolor": "white",
            "showbackground": true,
            "ticks": "",
            "zerolinecolor": "white"
           }
          },
          "shapedefaults": {
           "line": {
            "color": "#2a3f5f"
           }
          },
          "ternary": {
           "aaxis": {
            "gridcolor": "white",
            "linecolor": "white",
            "ticks": ""
           },
           "baxis": {
            "gridcolor": "white",
            "linecolor": "white",
            "ticks": ""
           },
           "bgcolor": "#E5ECF6",
           "caxis": {
            "gridcolor": "white",
            "linecolor": "white",
            "ticks": ""
           }
          },
          "title": {
           "x": 0.05
          },
          "xaxis": {
           "automargin": true,
           "gridcolor": "white",
           "linecolor": "white",
           "ticks": "",
           "title": {
            "standoff": 15
           },
           "zerolinecolor": "white",
           "zerolinewidth": 2
          },
          "yaxis": {
           "automargin": true,
           "gridcolor": "white",
           "linecolor": "white",
           "ticks": "",
           "title": {
            "standoff": 15
           },
           "zerolinecolor": "white",
           "zerolinewidth": 2
          }
         }
        },
        "title": {
         "text": "2 first components of FDA"
        },
        "xaxis": {
         "anchor": "y",
         "domain": [
          0,
          0.7363
         ],
         "title": {
          "text": "first_compo"
         }
        },
        "xaxis2": {
         "anchor": "y2",
         "domain": [
          0.7413,
          1
         ],
         "matches": "x2",
         "showgrid": false,
         "showline": false,
         "showticklabels": false,
         "ticks": ""
        },
        "xaxis3": {
         "anchor": "y3",
         "domain": [
          0,
          0.7363
         ],
         "matches": "x",
         "showgrid": true,
         "showticklabels": false
        },
        "xaxis4": {
         "anchor": "y4",
         "domain": [
          0.7413,
          1
         ],
         "matches": "x2",
         "showgrid": false,
         "showline": false,
         "showticklabels": false,
         "ticks": ""
        },
        "yaxis": {
         "anchor": "x",
         "domain": [
          0,
          0.7326
         ],
         "title": {
          "text": "second_compo"
         }
        },
        "yaxis2": {
         "anchor": "x2",
         "domain": [
          0,
          0.7326
         ],
         "matches": "y",
         "showgrid": true,
         "showticklabels": false
        },
        "yaxis3": {
         "anchor": "x3",
         "domain": [
          0.7426,
          1
         ],
         "matches": "y3",
         "showgrid": false,
         "showline": false,
         "showticklabels": false,
         "ticks": ""
        },
        "yaxis4": {
         "anchor": "x4",
         "domain": [
          0.7426,
          1
         ],
         "matches": "y3",
         "showgrid": true,
         "showline": false,
         "showticklabels": false,
         "ticks": ""
        }
       }
      }
     },
     "metadata": {},
     "output_type": "display_data"
    }
   ],
   "source": [
    "df = pd.DataFrame({\n",
    "'class':y_train.astype(str), 'first_compo':proj_train[:,0].T, 'second_compo':proj_train[:,1].T, #'exp_day':exp_day.astype(str)#, 'third_compo':proj[:,2].T,\n",
    "})\n",
    "\n",
    "fig = px.scatter(df, x='first_compo', y='second_compo',color=\"class\", symbol='class',\n",
    "                 marginal_x=\"box\", marginal_y=\"box\",\n",
    "                    title=\"2 first components of FDA\")\n",
    "fig.show()"
   ]
  },
  {
   "cell_type": "code",
   "execution_count": 32,
   "metadata": {},
   "outputs": [
    {
     "data": {
      "text/plain": [
       "(1.0, 0.1)"
      ]
     },
     "execution_count": 32,
     "metadata": {},
     "output_type": "execute_result"
    }
   ],
   "source": [
    "logreg = LogisticRegression(C=50)\n",
    "logreg.fit(x_train, y_train)\n",
    "\n",
    "score_train = logreg.score(x_train,y_train)\n",
    "score_test = logreg.score(x_test, y_test)\n",
    "score_train,score_test"
   ]
  },
  {
   "cell_type": "code",
   "execution_count": 33,
   "metadata": {},
   "outputs": [
    {
     "name": "stdout",
     "output_type": "stream",
     "text": [
      "[0 3 8 9 6 8 7 0 7 0]\n"
     ]
    },
    {
     "data": {
      "text/plain": [
       "array([2, 5, 3, 3, 6, 1, 2, 2, 5, 4])"
      ]
     },
     "execution_count": 33,
     "metadata": {},
     "output_type": "execute_result"
    }
   ],
   "source": [
    "print(y_test)\n",
    "logreg.predict(x_test)"
   ]
  }
 ],
 "metadata": {
  "interpreter": {
   "hash": "75f9f9ee5ef6a2d86672b423834af4c94148b95a054c4c028ec9f6b37b0b6be5"
  },
  "kernelspec": {
   "display_name": "Python 3.8.12 ('projet_eeg')",
   "language": "python",
   "name": "python3"
  },
  "language_info": {
   "codemirror_mode": {
    "name": "ipython",
    "version": 3
   },
   "file_extension": ".py",
   "mimetype": "text/x-python",
   "name": "python",
   "nbconvert_exporter": "python",
   "pygments_lexer": "ipython3",
   "version": "3.8.12"
  },
  "orig_nbformat": 4
 },
 "nbformat": 4,
 "nbformat_minor": 2
}
